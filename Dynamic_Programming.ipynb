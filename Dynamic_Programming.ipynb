{
 "cells": [
  {
   "cell_type": "markdown",
   "metadata": {},
   "source": [
    "# CSCI 3104 Assignment 6: Problems"
   ]
  },
  {
   "cell_type": "markdown",
   "metadata": {},
   "source": [
    "## Instructions\n",
    "\n",
    "> This assignment is to be completed and uploaded to \n",
    "moodle as a python3 notebook. \n",
    "\n",
    "> Submission deadlines are posted on moodle. \n",
    "\n",
    "> The questions  provided  below will ask you to either write code or \n",
    "write answers in the form of markdown.\n",
    "\n",
    "> Markdown syntax guide is here: [click here](https://github.com/adam-p/markdown-here/wiki/Markdown-Cheatsheet)\n",
    "\n",
    "> Using markdown you can typeset formulae using latex.\n",
    "\n",
    "> This way you can write nice readable answers with formulae like thus:\n",
    "\n",
    ">> The algorithm runs in time $\\Theta\\left(n^{2.1\\log_2(\\log_2( n \\log^*(n)))}\\right)$, \n",
    "wherein $\\log^*(n)$ is the inverse _Ackerman_ function.\n",
    "\n",
    "__Double click anywhere on this box to find out how your instructor typeset it. Press Shift+Enter to go back.__\n"
   ]
  },
  {
   "cell_type": "code",
   "execution_count": 2,
   "metadata": {},
   "outputs": [],
   "source": [
    "import numpy"
   ]
  },
  {
   "cell_type": "markdown",
   "metadata": {},
   "source": [
    "## Question 1: Dynamic Programmer Jane's Progress\n",
    "\n",
    "We are writing a simple game AI for guiding our `Jane` the dynamic programmer to jump through a set of levels to reach a target level by taking\n",
    "courses in dynamic programming.\n",
    "\n",
    "The levels positions are numbered 1, ... , n. The character starts at level 1 and the goal is to reach level n (where she becomes\n",
    "a d.p. ninja) and thus aces CSCI 3104.\n",
    "After taking a course, she can choose to move up by 1, 4, 5 or 11 levels forward at each step. No backward jumps are available.\n",
    "\n",
    "![Jane_Programmer At Start of Game](images/jane-picture-p1.png \"Jane at the Very Start of the Game\" )\n",
    "\n",
    "Your goal is to use dynamic programming to find out how to reach from level 1 to level n with the minimum number of courses.\n",
    "\n",
    "## 1(A) Write a recurrence.\n",
    "\n",
    "Write a recurrence `minCoursesForJane(j, n)` that represents the minimum number of steps for Jane to reach from level j to level n.\n"
   ]
  },
  {
   "cell_type": "code",
   "execution_count": 120,
   "metadata": {},
   "outputs": [],
   "source": [
    "def minCoursesForJane(j, n):\n",
    "\n",
    "    moves = [1,4,5,11]\n",
    "    iteroptions = []\n",
    "    \n",
    "    #Base Case 1: level n reached\n",
    "    if j == n:\n",
    "        return 0\n",
    "    #Base case 2: current level has surpassed n\n",
    "    if j > n:\n",
    "        return float('inf')   # return infinity as a warning sign\n",
    "\n",
    "    k = len(moves)\n",
    "    assert len(moves) == k\n",
    "    \n",
    "    for i in range(k):\n",
    "        q = 1 + minCoursesForJane(j, n-moves[i])   # count and recurse with the new j, which is moves[i] ahead\n",
    "        iteroptions.append(q)    # add q to the list of possible number of steps\n",
    "        optimalValue = min(iteroptions)  # get the minimum number of steps\n",
    "        \n",
    "    return optimalValue"
   ]
  },
  {
   "cell_type": "code",
   "execution_count": 121,
   "metadata": {},
   "outputs": [
    {
     "name": "stdout",
     "output_type": "stream",
     "text": [
      "2\n",
      "2\n",
      "4\n",
      "3\n",
      "5\n"
     ]
    }
   ],
   "source": [
    "## Test Code: Do not edit\n",
    "print(minCoursesForJane(1, 9)) # should be 2\n",
    "print(minCoursesForJane(1, 13)) # should be 2\n",
    "print(minCoursesForJane(1, 19)) # should be 4\n",
    "print(minCoursesForJane(1, 34)) # should be 3\n",
    "print(minCoursesForJane(1, 43)) # should be 5"
   ]
  },
  {
   "cell_type": "markdown",
   "metadata": {},
   "source": [
    "## 1(B) Memoize the Recurrence.\n",
    "\n",
    "Assume that n is fixed. The memo table $T[0], \\ldots, T[n]$ should store the value of `minCoursesForJane(j, n)`. "
   ]
  },
  {
   "cell_type": "code",
   "execution_count": 122,
   "metadata": {},
   "outputs": [],
   "source": [
    "def minCoursesForJane_Memoize(n): \n",
    "    \n",
    "    # start array and fill it with n+1 0s\n",
    "    memo = numpy.zeros(n+1, dtype=int)\n",
    "    moves = [1,4,5,11]   # remind me of the acceptable moves\n",
    "\n",
    "    for i in range(1, n+1):  \n",
    "        # count the steps needed for every option,\n",
    "        # store options in memo table\n",
    "        iteroptions = [1 + memo[i - j] for j in moves if (i - j >= 0)]  \n",
    "        iteroptions.append(10000000)\n",
    "        memo[i] = min(iteroptions)\n",
    "    \n",
    "    return memo[n-1]"
   ]
  },
  {
   "cell_type": "code",
   "execution_count": 123,
   "metadata": {},
   "outputs": [
    {
     "name": "stdout",
     "output_type": "stream",
     "text": [
      "2\n",
      "2\n",
      "4\n",
      "3\n",
      "5\n"
     ]
    }
   ],
   "source": [
    "## Test Code: Do not edit\n",
    "print(minCoursesForJane_Memoize(9)) # should be 2\n",
    "print(minCoursesForJane_Memoize(13)) # should be 2\n",
    "print(minCoursesForJane_Memoize(19)) # should be 4\n",
    "print(minCoursesForJane_Memoize(34)) # should be 3\n",
    "print(minCoursesForJane_Memoize(43)) # should be 5"
   ]
  },
  {
   "cell_type": "markdown",
   "metadata": {},
   "source": [
    "## 1(C) Recover the Solution\n",
    "\n",
    "Modify the solution from part B to also return how many steps Jane needs to jump at each course.  Your answer must be\n",
    "a pair: `minimum number of courses, list of jumps at each course: each elements of this list must be 1, 4, 5 or 11`\n"
   ]
  },
  {
   "cell_type": "code",
   "execution_count": 124,
   "metadata": {},
   "outputs": [],
   "source": [
    "def minCoursesForJane_Solution(n):\n",
    "    \n",
    "    moves = [1,4,5,11]   # acceptable jumps\n",
    "    \n",
    "    # create memo tables for the options and solutions, initialize to all zeros and -1 for solutions\n",
    "    memo = numpy.zeros(n+1, dtype=int)  \n",
    "    solutions = [-1]*(n+1) \n",
    "    jumps = []\n",
    "    \n",
    "    # count the steps needed for every option,\n",
    "    # fill in memo and solutions tables to later recover optimal choice\n",
    "    for i in range(1,n+1):\n",
    "        opts = [ (1 + memo[i - j], j)  for j in moves if (i - j >= 0)]\n",
    "        opts.append((1000000000, -1)) \n",
    "        memo[i], solutions[i] = min(opts)\n",
    "        \n",
    "    # recovery step\n",
    "    left = n-1\n",
    "    while left > 1:\n",
    "        # append the current solution and update the amount left to check\n",
    "        jumps.append(solutions[left])   \n",
    "        left = left - solutions[left]    \n",
    "    \n",
    "    return memo[n-1], jumps"
   ]
  },
  {
   "cell_type": "code",
   "execution_count": 125,
   "metadata": {},
   "outputs": [
    {
     "name": "stdout",
     "output_type": "stream",
     "text": [
      "(2, [4, 4])\n",
      "(2, [1, 11])\n",
      "(4, [1, 1, 5, 11])\n",
      "(3, [11, 11, 11])\n",
      "(5, [4, 5, 11, 11, 11])\n"
     ]
    }
   ],
   "source": [
    "## Test Code: Do not edit\n",
    "print(minCoursesForJane_Solution(9)) # should be 2, [4, 4]\n",
    "print(minCoursesForJane_Solution(13)) # should be 2, [1, 11]\n",
    "print(minCoursesForJane_Solution(19)) # should be 4, [1, 1, 5, 11]\n",
    "print(minCoursesForJane_Solution(34)) # should be 3, [11, 11, 11]\n",
    "print(minCoursesForJane_Solution(43)) # should be 5, [4, 5, 11, 11, 11]"
   ]
  },
  {
   "cell_type": "markdown",
   "metadata": {},
   "source": [
    "## 1(D) Greedy Solution\n",
    "\n",
    "Suppose Jane tried a greedy strategy that works as follows. \n",
    "Initialize number of courses $c = 0$.\n",
    "\n",
    "   1. While $n \\geq 11$,\n",
    "      1.1 jump $11$ steps forward, and set $n = n - 11$, $ c = c + 1$\n",
    "   2. While $n \\geq 5$, \n",
    "      2.1 jump $5$ steps forward and set $n = n - 5$, $ c = c + 1$\n",
    "   3. While $n \\geq 4$, \n",
    "      3.1 jump $4$ steps forward and set $n = n - 4$, $c = c + 1$\n",
    "   4. Finally, while $n > 1$, \n",
    "      4.1 jump $1$ step forward and set $n = n - 1$, $c = c + 1$\n",
    "     \n",
    "This way, she can reach level $n$ starting from level $1$ using $c$ courses.\n",
    "\n",
    "Show using an example for $n$ that this strategy may require her to take more courses than the optimal solution from dynamic programming."
   ]
  },
  {
   "cell_type": "markdown",
   "metadata": {},
   "source": [
    "## Answer (Expected Length 3 lines) \n",
    "\n",
    "\n",
    "__Answer__\n",
    "\n",
    "Let's consider the case where Jane is trying to reach level n = 15.\n",
    "We'll apply the greedy algroithm described above where the largest possible value is picked at every step, starting at initial position j = 1:\n",
    "\n",
    "__Step 1: j = 1 | c = 0__\n",
    "\n",
    "j = j + 11 = 12\n",
    "\n",
    "c = 0 + 1 = 1\n",
    "\n",
    "__Step 2: j = 12 | c = 1__\n",
    "\n",
    "(since we're only 3 steps away from 15, the only value we can pick is 1)\n",
    "\n",
    "j = j + 1 = 13\n",
    "\n",
    "c = 1 + 1 = 2\n",
    "\n",
    "__Step 3: j = 13 | c = 2__\n",
    "\n",
    "j = j + 1 = 14\n",
    "\n",
    "c = 2 + 1 = 3\n",
    "\n",
    "__Step 3: j = 14 | c = 3__\n",
    "\n",
    "j = j + 1 = 15\n",
    "\n",
    "c = 2 + 1 = 4\n",
    "\n",
    "__Reached j = 14 | c = 4__\n",
    "\n",
    "This means it took c = 4 courses to reach n=15 with the greedy algorithm.\n",
    "\n",
    "With the sequence of c=4 steps: [11, 1, 1, 1]\n",
    "\n",
    "However, with dynamic programming the optimal solution would've yielded:\n",
    "\n",
    "__Step 1: j = 1 | c = 0__\n",
    "\n",
    "j = j + 5 = 6\n",
    "\n",
    "c = 0 + 1 = 1\n",
    "\n",
    "__Step 2: j = 6 | c = 1__\n",
    "\n",
    "j = j + 5 = 11\n",
    "\n",
    "c = 1 + 1 = 2\n",
    "\n",
    "__Step 3: j = 11 | c = 2__\n",
    "\n",
    "j = j + 4 = 15\n",
    "\n",
    "c = 2 + 1 = 3\n",
    "\n",
    "With the sequence of c=3 steps: [5, 5, 4]"
   ]
  },
  {
   "cell_type": "markdown",
   "metadata": {},
   "source": [
    "## Question 2: The Defeat of Kilokahn\n",
    "\n",
    "Unfortunately, life was not as simple as it seemed in problem 1. Some of the levels have been hacked by an evil group of \n",
    "students who can subvert Jane and her great expertise to serve evil Kilokahn (Kilometric Knowledge-base Animate Human Nullity). \n",
    "\n",
    "Any level j that leaves a remainder of 2 when divided by 7 is to be avoided by Jane as she progresses towards level n (where she\n",
    "becomes a code ninja). However, Kilokahn will not be at level $n$ even if $n \\mod 7 = 2$.\n",
    "\n",
    "\n",
    "![Jane_Programmer At Start of Game with Kilokahn lurking](jane-picture-p2.png \"Jane at the Very Start of the Game with Kilokahn lurking\" )\n",
    "\n",
    "\n",
    "## 2(A) Write a recurrence.\n",
    "\n",
    "Write a recurrence `minCoursesForJaneAvoidKK(j, n)` that represents the minimum number of steps for Jane to reach from level j to level n while not reaching any level occupied by Kilokahn.\n"
   ]
  },
  {
   "cell_type": "code",
   "execution_count": 69,
   "metadata": {},
   "outputs": [],
   "source": [
    "def minCoursesForJaneAvoidKK(j, n):\n",
    "\n",
    "    moves = [1,4,5,11]\n",
    "    iteroptions = []\n",
    "    \n",
    "    #Base Case 1: level n reached\n",
    "    if j == n:\n",
    "        return 0\n",
    "    #Base case 2: current level has surpassed n\n",
    "    if j > n:\n",
    "        return float('inf')   # return infinity as a warning sign\n",
    "    \n",
    "    k = len(moves)\n",
    "    assert len(moves) == k\n",
    "    \n",
    "    for i in range(k):\n",
    "        if (j+moves[i]) % 7 != 2 or j+moves[i] == n:   # move forward if not stepping into a forbidden step, or if the step is n, where KK cannot be found\n",
    "            q = 1 + minCoursesForJaneAvoidKK(j+moves[i], n)   # count and recurse with the new j, which is moves[i] ahead\n",
    "            iteroptions.append(q)   # add q to the list of possible number of steps\n",
    "        if len(iteroptions) > 0:\n",
    "            optimalValue = min(iteroptions)   # get the minimum number of steps\n",
    "\n",
    "    return optimalValue"
   ]
  },
  {
   "cell_type": "code",
   "execution_count": 70,
   "metadata": {},
   "outputs": [
    {
     "name": "stdout",
     "output_type": "stream",
     "text": [
      "2\n",
      "2\n",
      "4\n",
      "5\n",
      "5\n",
      "6\n"
     ]
    }
   ],
   "source": [
    "## Test Code: Do not edit\n",
    "print(minCoursesForJaneAvoidKK(1, 9)) # should be 2\n",
    "print(minCoursesForJaneAvoidKK(1, 13)) # should be 2\n",
    "print(minCoursesForJaneAvoidKK(1, 19)) # should be 4\n",
    "print(minCoursesForJaneAvoidKK(1, 34)) # should be 5\n",
    "print(minCoursesForJaneAvoidKK(1, 43)) # should be 5\n",
    "print(minCoursesForJaneAvoidKK(1, 55)) # should be 6"
   ]
  },
  {
   "cell_type": "markdown",
   "metadata": {},
   "source": [
    "## 2(B) Memoize the recurrence in 2(A)"
   ]
  },
  {
   "cell_type": "code",
   "execution_count": 126,
   "metadata": {},
   "outputs": [],
   "source": [
    "def minCoursesForJaneAvoidKK_Memoize(n): # j is assumed to be 1 \n",
    "    \n",
    "    # start memo array and fill it with n+1 0s\n",
    "    memo = numpy.zeros(n+1, dtype=int)\n",
    "    moves = [1,4,5,11]\n",
    "\n",
    "    # count the steps needed for every option,\n",
    "    # store options in memo table\n",
    "    for i in range(1, n+1):\n",
    "        for j in moves:\n",
    "            if (i-j >= 0 and (i+j)% 7 != 2):   # cover base case to avoid KK\n",
    "                iteroptions = [1 + memo[i - j]]\n",
    "                iteroptions.append(10000000)\n",
    "                memo[i] = min(iteroptions)\n",
    "\n",
    "    return memo[n]"
   ]
  },
  {
   "cell_type": "code",
   "execution_count": 127,
   "metadata": {},
   "outputs": [
    {
     "name": "stdout",
     "output_type": "stream",
     "text": [
      "2\n",
      "2\n",
      "4\n",
      "5\n",
      "5\n",
      "6\n",
      "8\n",
      "83\n"
     ]
    }
   ],
   "source": [
    "## Test Code: Do not edit\n",
    "print(minCoursesForJaneAvoidKK_Memoize(9)) # should be 2\n",
    "print(minCoursesForJaneAvoidKK_Memoize(13)) # should be 2\n",
    "print(minCoursesForJaneAvoidKK_Memoize(19)) # should be 4\n",
    "print(minCoursesForJaneAvoidKK_Memoize(34)) # should be 5\n",
    "print(minCoursesForJaneAvoidKK_Memoize(43)) # should be 5\n",
    "print(minCoursesForJaneAvoidKK_Memoize(55)) # should be 6\n",
    "print(minCoursesForJaneAvoidKK_Memoize(69)) # should be 8\n",
    "print(minCoursesForJaneAvoidKK_Memoize(812)) # should be 83"
   ]
  },
  {
   "cell_type": "markdown",
   "metadata": {},
   "source": [
    "## 2(C) Recover the solution in terms of number of jumps for each course."
   ]
  },
  {
   "cell_type": "code",
   "execution_count": 128,
   "metadata": {},
   "outputs": [],
   "source": [
    "def minCoursesForJaneAvoidKK_Solution(n):\n",
    "    \n",
    "    moves = [1,4,5,11] # acceptable jumps\n",
    "    \n",
    "    # create memo tables for the options and solutions\n",
    "    memo = numpy.zeros(n+1, dtype=int)   \n",
    "    solutions = [-1]*(n+1) \n",
    "    jumps = []\n",
    "    \n",
    "    # count the steps needed for every option,\n",
    "    # fill in memo and solutions tables to later recover optimal choice\n",
    "    for i in range(1,n+1):\n",
    "        opts = [ (1 + memo[i - j], j)  for j in moves if (i - j >= 0 and (i + j)% 7 != 2)]  # cover base case to avoid KK\n",
    "        opts.append((1000000000, -1))\n",
    "        memo[i], solutions[i] = min(opts)\n",
    "        \n",
    "    # recovery step\n",
    "    left = n-1\n",
    "    while left > 1:\n",
    "        # append the current solution and update the amount left to check\n",
    "        jumps.append(solutions[left])\n",
    "        left = left - solutions[left] \n",
    "\n",
    "    return memo[n-1], jumps"
   ]
  },
  {
   "cell_type": "code",
   "execution_count": 129,
   "metadata": {},
   "outputs": [
    {
     "name": "stdout",
     "output_type": "stream",
     "text": [
      "(2, [4, 4])\n",
      "(2, [1, 11])\n",
      "(4, [1, 1, 5, 11])\n",
      "(5, [1, 11, 5, 5, 11])\n",
      "(5, [4, 11, 5, 11, 11])\n",
      "(6, [5, 11, 11, 5, 11, 11])\n",
      "(8, [1, 11, 11, 11, 11, 1, 11, 11])\n",
      "(83, [5, 11, 11, 11, 11, 5, 11, 11, 11, 11, 5, 11, 11, 11, 11, 5, 11, 11, 11, 11, 5, 11, 11, 11, 11, 5, 11, 11, 11, 11, 5, 11, 11, 11, 11, 5, 11, 11, 11, 11, 5, 11, 11, 11, 11, 5, 11, 11, 11, 11, 5, 11, 11, 11, 11, 5, 11, 11, 11, 11, 5, 11, 11, 11, 11, 5, 11, 11, 11, 11, 5, 11, 11, 11, 11, 5, 11, 11, 11, 11, 5, 11, 11])\n"
     ]
    }
   ],
   "source": [
    "## Test Code: Do not edit\n",
    "print(minCoursesForJaneAvoidKK_Solution(9)) # should be 2, [4, 4]\n",
    "print(minCoursesForJaneAvoidKK_Solution(13)) # should be 2, [11, 1]\n",
    "print(minCoursesForJaneAvoidKK_Solution(19)) # should be 4, [4, 5, 4, 5]\n",
    "print(minCoursesForJaneAvoidKK_Solution(34)) # should be 5, [5, 1, 11, 11, 5]\n",
    "print(minCoursesForJaneAvoidKK_Solution(43)) # should be 5, [4, 5, 11, 11, 11]\n",
    "print(minCoursesForJaneAvoidKK_Solution(55)) # should be 6, [5, 11, 11, 11, 11, 5]\n",
    "print(minCoursesForJaneAvoidKK_Solution(69)) # should be 8, [11, 1, 11, 11, 11, 11, 11, 1]\n",
    "print(minCoursesForJaneAvoidKK_Solution(812)) # should be 83, [5, 11, 11, 11, 11, 5, 11, 11, 11, 11, 5, 11, 11, 11, 11, 5, 11, 11, 11, 11, 5, 11, 11, 11, 11, 5, 11, 11, 11, 11, 5, 11, 11, 11, 11, 5, 11, 11, 11, 11, 5, 11, 11, 11, 11, 5, 11, 11, 11, 11, 5, 11, 11, 11, 11, 5, 11, 11, 11, 11, 5, 11, 11, 11, 11, 5, 11, 11, 11, 11, 5, 11, 11, 11, 11, 5, 11, 11, 11, 11, 5, 11, 11]"
   ]
  },
  {
   "cell_type": "markdown",
   "metadata": {},
   "source": [
    "## Question 3: Energize Jane with a budget.\n",
    "\n",
    "Unfortunately, life was not as simple as it seemed in problem 2. Besides dealing with Kilokahn, taking a course with a level jump consumes\n",
    "a lot of Jane's energy, and she has an energy $E_0$ to begin with. Each time Jane jumps levels, she loses energy as follows:\n",
    "\n",
    "\n",
    "| Jump   | Energy Consumed |\n",
    "|--------|-----------------|\n",
    "|  1     |       1         |\n",
    "|  4     |       2         |\n",
    "|  5     |       3         |\n",
    "| 11     |       7         |\n",
    "\n",
    "\n",
    "If at any point her energy level is $ \\leq 0$ (even if she is at the destination), she will lose.\n",
    "\n",
    "Given $n$, and initial energy $E_0$, plan how Jane can reach level $n$ (ninja level, in case you forgot) while\n",
    "avoiding Kilokahn who  lurks when dividing the level by $7$ leaves a remainder of $2$ and keeping her energy levels\n",
    "always strictly positive."
   ]
  },
  {
   "cell_type": "markdown",
   "metadata": {},
   "source": [
    "----"
   ]
  },
  {
   "cell_type": "markdown",
   "metadata": {},
   "source": [
    "### 3(A): Write a Recurrence\n",
    "\n",
    "Write a recurrence `minCoursesWithEnergyBudget(j, E, n)` that given that Jane is currently on level `j` with energy `E` finds the minimal \n",
    "number of courses she needs to take to reach `n`. Do not forget the base cases."
   ]
  },
  {
   "cell_type": "code",
   "execution_count": 130,
   "metadata": {},
   "outputs": [],
   "source": [
    "def minCoursesWithEnergyBudget(j, e, n):\n",
    "\n",
    "    moves = [1,4,5,11]\n",
    "    options = []\n",
    "    \n",
    "    #Base Case 1: Jane is out of energy! e is not strictly positive, it's 0 or below\n",
    "    if e < 1:\n",
    "        return float('inf')\n",
    "    \n",
    "    #Base Case 2: level n reached\n",
    "    if j == n:\n",
    "  \n",
    "        return 0\n",
    "    #Base case 3: current level has surpassed n\n",
    "    if j > n:\n",
    "\n",
    "        return float('inf')   # return infinity as a warning sign\n",
    "\n",
    "    k = len(moves)\n",
    "    assert len(moves) == k\n",
    "    \n",
    "    for i in range(k):\n",
    "        \n",
    "        if (j+moves[i]) % 7 != 2 or j+moves[i] == n:   # move forward if not stepping into a forbidden step, or if the step is n, where KK cannot be found   \n",
    "            \n",
    "            if moves[i] == 1:\n",
    "                q = 1 + minCoursesWithEnergyBudget(j+moves[i], e-1, n)   # count and recurse with the new j, which is moves[i] ahead, reduce energy by 1\n",
    "                options.append(q)   # add q to the list of possible number of steps\n",
    "    \n",
    "            if moves[i] == 4:\n",
    "                q = 1 + minCoursesWithEnergyBudget(j+moves[i], e-2, n)   # count and recurse with the new j, which is moves[i] ahead, reduce energy by 2\n",
    "                options.append(q)   # add q to the list of possible number of steps\n",
    "                \n",
    "            if moves[i] == 5:\n",
    "                q = 1 + minCoursesWithEnergyBudget(j+moves[i], e-3, n)   # count and recurse with the new j, which is moves[i] ahead, reduce energy by 3\n",
    "                options.append(q)   # add q to the list of possible number of steps\n",
    "                \n",
    "            if moves[i] == 11:\n",
    "                q = 1 + minCoursesWithEnergyBudget(j+moves[i], e-7, n)   # count and recurse with the new j, which is moves[i] ahead, reduce energy by 7\n",
    "                options.append(q)   # add q to the list of possible number of steps\n",
    "            \n",
    "        if len(options) > 0:\n",
    "            bestValue = min(options)   # get the minimum number of steps\n",
    "            \n",
    "    return bestValue"
   ]
  },
  {
   "cell_type": "code",
   "execution_count": 287,
   "metadata": {},
   "outputs": [
    {
     "name": "stdout",
     "output_type": "stream",
     "text": [
      "2\n",
      "1\n",
      "5\n",
      "7\n",
      "7\n",
      "7\n",
      "11\n",
      "12\n"
     ]
    }
   ],
   "source": [
    "# test code do not edit\n",
    "print(minCoursesWithEnergyBudget(1, 25, 10)) # must be 2\n",
    "print(minCoursesWithEnergyBudget(1, 25, 6)) # must be 1\n",
    "print(minCoursesWithEnergyBudget(1, 25, 30)) # must be 5\n",
    "print(minCoursesWithEnergyBudget(1, 16, 30)) # must be 7\n",
    "print(minCoursesWithEnergyBudget(1, 18, 31)) # must be 7\n",
    "print(minCoursesWithEnergyBudget(1, 22, 38)) # must be 7\n",
    "print(minCoursesWithEnergyBudget(1, 32, 55)) # must be 11\n",
    "print(minCoursesWithEnergyBudget(1, 35, 60)) # must be 12"
   ]
  },
  {
   "cell_type": "markdown",
   "metadata": {},
   "source": [
    "## 3(B): Memoize the Recurrence\n",
    "\n",
    "Write a memo table to memoize the recurrence. Your memo table must be  of the form $T[j][e]$ for $j$ ranging from $1$ to $n$\n",
    "and $e$ ranging from $0$ to $E$. You will have to handle the base cases carefully."
   ]
  },
  {
   "cell_type": "code",
   "execution_count": 131,
   "metadata": {},
   "outputs": [],
   "source": [
    "def minCoursesWithEnergyBudget_Memoize(E, n):\n",
    "    \n",
    "    # create memo table with appropriate number of rows and columns\n",
    "    memo = numpy.zeros((E+1, n+1), dtype=int)  \n",
    "    \n",
    "    # remind me of moves allowed and corresponding energy costs\n",
    "    moves = [1, 4, 5, 11]\n",
    "    energy = [1, 2, 3, 7]\n",
    "    \n",
    "    for e in range(1, E+1):\n",
    "        \n",
    "        for m in range(1, n+1):\n",
    "            options = []  # array to store options\n",
    "            \n",
    "            for i in range(len(moves)):\n",
    "                if (m - moves[i] >= 0) and (e - energy[i] > 0):  # cover base cases: don't drop below n, keep energy positive...\n",
    "                    if (m - moves[i] + 1) %7 != 2:  # and do NOT step into KK's realm\n",
    "                        options.append(1 + memo[e - energy[i]][m - moves[i]])\n",
    "                    options.append(1000000)\n",
    "                options.append(1000000)\n",
    "                \n",
    "            memo[e][m] = min(options)  # keep the most optimal option\n",
    "            \n",
    "    return memo[E][n-1]"
   ]
  },
  {
   "cell_type": "code",
   "execution_count": 132,
   "metadata": {},
   "outputs": [
    {
     "name": "stdout",
     "output_type": "stream",
     "text": [
      "2\n",
      "1\n",
      "5\n",
      "7\n",
      "7\n",
      "7\n",
      "11\n",
      "12\n"
     ]
    }
   ],
   "source": [
    "# test code do not edit\n",
    "print(minCoursesWithEnergyBudget_Memoize(25, 10)) # must be 2\n",
    "print(minCoursesWithEnergyBudget_Memoize(25, 6)) # must be 1\n",
    "print(minCoursesWithEnergyBudget_Memoize(25, 30)) # must be 5\n",
    "print(minCoursesWithEnergyBudget_Memoize(16, 30)) # must be 7\n",
    "print(minCoursesWithEnergyBudget_Memoize(18, 31)) # must be 7\n",
    "print(minCoursesWithEnergyBudget_Memoize(22, 38)) # must be 7\n",
    "print(minCoursesWithEnergyBudget_Memoize(32, 55)) # must be 11\n",
    "print(minCoursesWithEnergyBudget_Memoize(35, 60)) # must be 12"
   ]
  },
  {
   "cell_type": "markdown",
   "metadata": {},
   "source": [
    "## 3(C): Recover the Solution\n",
    "\n",
    "Now write code that will also return the minimum number of courses along with the list of jumps that will achieve this minimum number"
   ]
  },
  {
   "cell_type": "code",
   "execution_count": 48,
   "metadata": {},
   "outputs": [],
   "source": [
    "def minCoursesWithEnergyBudget_Solution(E, n):\n",
    "\n",
    "    # remind me of moves allowed and corresponding energy costs\n",
    "    moves = [1, 4, 5, 11]\n",
    "    energy = [1, 2, 3, 7]\n",
    "    \n",
    "    # initialize 2D memo table to all zeros\n",
    "    memo = numpy.zeros((E+1, n+1), dtype=int)\n",
    "    \n",
    "    # initialize arrays to store solutions and keep track of energy/jumps\n",
    "    solutions = numpy.zeros((E+1, n+1), dtype=tuple)\n",
    "    ecount = numpy.zeros((E+1, n+1), dtype=int)\n",
    "    jcount = numpy.zeros((E+1, n+1), dtype=int)\n",
    "    \n",
    "    for e in range(1, E+1):\n",
    "        for m in range(1, n+1):\n",
    "            memo_values = []\n",
    "            ecount_values = []\n",
    "            jcount_values = []\n",
    "            \n",
    "            # count the steps needed for every option,\n",
    "            # fill in memo, count and solutions tables to later recover optimal choice\n",
    "            for i in range(len(moves)):\n",
    "                if (m-moves[i] >= 0) and (e-energy[i] > 0):  # cover base cases: keep energy positive and do not visit KK\n",
    "                    if ((m-moves[i] + 1) %7 != 2):\n",
    "                        \n",
    "                        # keep the step and energy count, fill other rows with undesired values\n",
    "                        memo_values.append(1 + memo[e-energy[i]][m-moves[i]])\n",
    "                        ecount_values.append(e-energy[i])\n",
    "                        jcount_values.append(m)\n",
    "                        \n",
    "                    memo_values.append(1000000)\n",
    "                    ecount_values.append(-1000000)\n",
    "                    jcount_values.append(1000000)\n",
    "                \n",
    "                memo_values.append(1000000)\n",
    "                ecount_values.append(-1000000)\n",
    "                jcount_values.append(1000000)\n",
    "            \n",
    "            # store min steps, max energy\n",
    "            memo[e][m] = min(memo_values)\n",
    "            ecount[e][m] = max(ecount_values)\n",
    "            jcount[e][m] = min(jcount_values)\n",
    "        \n",
    "    # recovery step\n",
    "    jleft = n-1\n",
    "    eleft = E\n",
    "    totaljumps = []\n",
    "\n",
    "    # append the current solution and update the amount left to check\n",
    "    while (jleft > 0):\n",
    "        totaljumps.append(jcount[eleft][jleft])\n",
    "        eleft = eleft - ecount[eleft][jleft]\n",
    "        jleft = jleft - jcount[eleft][jleft]\n",
    "        \n",
    "    return memo[E][n-1], totaljumps"
   ]
  },
  {
   "cell_type": "code",
   "execution_count": 1,
   "metadata": {},
   "outputs": [
    {
     "name": "stdout",
     "output_type": "stream",
     "text": [
      "(2, [4, 5])\n",
      "(1, [5])\n",
      "(5, [4, 5, 4, 5, 11])\n",
      "(7, [4, 5, 4, 4, 4, 4, 4])\n",
      "(7, [4, 5, 4, 4, 4, 4, 5])\n",
      "(7, [4, 5, 4, 4, 4, 5, 11])\n",
      "(11, [4, 5, 4, 4, 4, 4, 5, 4, 4, 11, 5])\n",
      "(12, [4, 5, 4, 4, 4, 4, 5, 4, 4, 11, 5, 5])\n"
     ]
    }
   ],
   "source": [
    "# test code do not edit\n",
    "print(minCoursesWithEnergyBudget_Solution(25, 10)) # must be 2, [4,5]\n",
    "print(minCoursesWithEnergyBudget_Solution(25, 6)) # must be 1, [5]\n",
    "print(minCoursesWithEnergyBudget_Solution(25, 30)) # must be 5, [4, 5, 4, 5, 11]\n",
    "print(minCoursesWithEnergyBudget_Solution(16, 30)) # must be 7, [4, 5, 4, 4, 4, 4, 4]\n",
    "print(minCoursesWithEnergyBudget_Solution(18, 31)) # must be 7, [4, 5, 4, 4, 4, 4, 5]\n",
    "print(minCoursesWithEnergyBudget_Solution(22, 38)) # must be 7,  [4, 5, 4, 4, 4, 5, 11]\n",
    "print(minCoursesWithEnergyBudget_Solution(32, 55)) # must be 11, [4, 5, 4, 4, 4, 4, 5, 4, 4, 11, 5]\n",
    "print(minCoursesWithEnergyBudget_Solution(35, 60)) # must be 12, [4, 5, 4, 4, 4, 4, 5, 4, 4, 11, 5, 5]"
   ]
  },
  {
   "cell_type": "markdown",
   "metadata": {},
   "source": [
    "----"
   ]
  },
  {
   "cell_type": "markdown",
   "metadata": {},
   "source": [
    "## Question 4: Subset Sum Problem\n",
    "\n",
    "We are given a set of whole numbers $S:\\ \\{ n_1, \\ldots, n_k \\}$ and a number $N$.\n",
    "Our goal is to choose a subset of numbers $T:\\ \\{ n_{i_1}, \\ldots, n_{i_j} \\} \\subseteq S$ such that\n",
    "\n",
    "   (a) $\\sum_{l=1}^j n_{i_l}  \\leq N$, the sum of chosen numbers is less than or equal to $N$, \n",
    "\n",
    "   (b) The difference $N - \\sum_{l=1}^j n_{i_l} $ is made as small as possible.\n",
    "\n",
    " For example, $S = \\{ 1, 2, 3, 4, 5, 10 \\}$ and $N = 20$ then by choosing $T = \\{1, 2, 3, 4, 5\\}$, we have  \n",
    "$1 + 2 + 3 + 4 + 5 = 15 \\leq 20$, achieving a difference of $5$. However, if we chose $T = \\{ 2,3,5,10\\}$ \n",
    "we obtain a sum of $2 + 3 + 5 + 10 = 20$ achieving the smallest possible difference of $0$.\n",
    "\n",
    "\n",
    "Therefore the problem is as follows:\n",
    "\n",
    "  * Inputs: list  $S: [n_1, \\ldots, n_k]$ and number $N$.\n",
    "  * Output: a list $T$ of elements from $S$ such that sum of elements of $T$ is  $\\leq N$ and $N - \\sum_{e \\in T} e$ is the smallest possible.\n",
    "\n",
    "The subsequent parts to this problem ask you to derive a dynamic programming solution to this problem.\n",
    "\n",
    "__Note:__ Because $S$ and $T$ are viewed as sets, each element in the set may occur exactly once."
   ]
  },
  {
   "cell_type": "markdown",
   "metadata": {},
   "source": [
    " ## 4(A) Show how the decisions can be staged to obtain optimal substructure (expected size: 5 lines)"
   ]
  },
  {
   "cell_type": "markdown",
   "metadata": {},
   "source": [
    "__Answer__\n",
    "\n",
    "A given problems has Optimal Substructure Property if the optimal solution to the given problem can be obtained by computing the optimal solutions of its subproblems. \n",
    "Suppose we are trying to reach N by adding up different numbers from set S. We will start by picking an element j from S, we'll subtract it from N, and solve the problem for N-j. The steps can be summarized as follows:\n",
    "\n",
    "1. We have an array of numbers $[j_1, \\ldots, j_k]$. We first decide on an item j to subtract from N.\n",
    "2. As a result of the above step, we get a new target value N-j. We can now consider the same problem in #1, but with input N-j.\n",
    "3. If the previous subproblem has a solution, we join it to the larger problem's solution. We continue to reduce N, picking an element j from the set to subtract from it, until the problem can no longer be reduced.\n",
    "\n",
    "Thus, we see this problem has optimal substructure."
   ]
  },
  {
   "cell_type": "markdown",
   "metadata": {},
   "source": [
    "## 4(B): Write a recursive function for calculating the minimum value of the difference possible. "
   ]
  },
  {
   "cell_type": "code",
   "execution_count": 135,
   "metadata": {},
   "outputs": [],
   "source": [
    "def minSubsetDifference_recursive(N, s_list): \n",
    "    \n",
    "    k = len(s_list)\n",
    "    assert len(s_list) == k\n",
    "    \n",
    "    # Base case 1: N reached 0, return 0\n",
    "    if N == 0:\n",
    "        return 0\n",
    "    \n",
    "    # Base case 2: N is less than 0, return its absolute value\n",
    "    if N < 0:\n",
    "        return abs(N)\n",
    "    \n",
    "    # Base case 3: Sum of all numbers is less than N, return the difference\n",
    "    if sum(s_list) < N:\n",
    "        return N-sum(s_list)\n",
    "\n",
    "    options = []\n",
    "    \n",
    "    # loop and recurse, reducing N at every step to solve smaller subproblems\n",
    "    # note items in a set cannot be reused, so recursive call uses list without current element\n",
    "    for i in range(k):\n",
    "        q = minSubsetDifference_recursive(N - s_list[i], s_list[:i] + s_list[i+1:])\n",
    "        options.append(q)\n",
    "    \n",
    "    # get the minimum difference possible to return it\n",
    "    min_difference = min(options)\n",
    "        \n",
    "    return min_difference"
   ]
  },
  {
   "cell_type": "code",
   "execution_count": 136,
   "metadata": {},
   "outputs": [
    {
     "name": "stdout",
     "output_type": "stream",
     "text": [
      "0\n",
      "1\n",
      "0\n",
      "0\n",
      "0\n",
      "1\n",
      "0\n",
      "1\n"
     ]
    }
   ],
   "source": [
    "# Code for testing your solution\n",
    "# DO NOT EDIT\n",
    "print(minSubsetDifference_recursive(15, [1, 2, 3, 4, 5, 10])) # Should be zero\n",
    "print(minSubsetDifference_recursive(26, [1, 2, 3, 4, 5, 10])) # should be 1\n",
    "print(minSubsetDifference_recursive(23, [1, 2, 3, 4, 5, 10])) # should be 0\n",
    "print(minSubsetDifference_recursive(18, [1, 2, 3, 4, 5, 10])) # should be 0\n",
    "print(minSubsetDifference_recursive(9, [1, 2, 3, 4, 5, 10])) # should be 0\n",
    "print(minSubsetDifference_recursive(457, [11, 23, 37, 48, 94, 152, 230, 312, 339, 413])) # should be 1\n",
    "print(minSubsetDifference_recursive(512, [11, 23, 37, 48, 94, 152, 230, 312, 339, 413])) # should be 0\n",
    "print(minSubsetDifference_recursive(616, [11, 23, 37, 48, 94, 152, 230, 312, 339, 413])) # should be 1"
   ]
  },
  {
   "cell_type": "markdown",
   "metadata": {},
   "source": [
    "## 4(C): Memoize the recurrence above. \n",
    "\n",
    "To help with your memoization, use a 2D memo table  $T[n][j]$ that represents the value for `minSubsetDifference(n, s_list[0:j])`. "
   ]
  },
  {
   "cell_type": "code",
   "execution_count": 137,
   "metadata": {},
   "outputs": [],
   "source": [
    "def minSubsetDifference_Memoize(N, s_list):\n",
    "\n",
    "    # initialize N as target to avoid changing its value\n",
    "    # initialize solutions array and difference var\n",
    "    target = N\n",
    "    solution_list = s_list\n",
    "    difference = 0\n",
    "    \n",
    "    for i in range(2**len(s_list)): \n",
    "        # use the 1s and 0s to check all the possible sums\n",
    "        options = str(numpy.base_repr(i, base=2, padding=len(s_list))[-len(s_list):])\n",
    "        memo = []  # initialize memo table\n",
    "        \n",
    "        for j in range(len(options)):\n",
    "            if options[j]=='1':\n",
    "                memo += [s_list[j]]\n",
    "        \n",
    "        # count 1s for current sum\n",
    "        num_sum = sum(memo)\n",
    "        \n",
    "        # base case -> if the current sum is <= N, and difference is under N, save in solutions list and update target\n",
    "        if num_sum <= N:\n",
    "            m = N - num_sum\n",
    "            if m < target:\n",
    "                solution_list = memo\n",
    "                target = m\n",
    "           \n",
    "        # get the absolute value of the difference with N\n",
    "        min_difference = abs(N - sum(solution_list))\n",
    "\n",
    "    return min_difference"
   ]
  },
  {
   "cell_type": "code",
   "execution_count": 138,
   "metadata": {},
   "outputs": [
    {
     "name": "stdout",
     "output_type": "stream",
     "text": [
      "0\n",
      "1\n",
      "0\n",
      "0\n",
      "0\n",
      "1\n",
      "0\n",
      "1\n"
     ]
    }
   ],
   "source": [
    "# Code for testing your solution\n",
    "# DO NOT EDIT\n",
    "print(minSubsetDifference_Memoize(15, [1, 2, 3, 4, 5, 10])) # Should be 0\n",
    "print(minSubsetDifference_Memoize(26, [1, 2, 3, 4, 5, 10])) # should be 1\n",
    "print(minSubsetDifference_Memoize(23, [1, 2, 3, 4, 5, 10])) # should be 0\n",
    "print(minSubsetDifference_Memoize(18, [1, 2, 3, 4, 5, 10])) # should be 0\n",
    "print(minSubsetDifference_Memoize(9, [1, 2, 3, 4, 5, 10])) # should be 0\n",
    "print(minSubsetDifference_Memoize(457, [11, 23, 37, 48, 94, 152, 230, 312, 339, 413])) # should be 1\n",
    "print(minSubsetDifference_Memoize(512, [11, 23, 37, 48, 94, 152, 230, 312, 339, 413])) # should be 0\n",
    "print(minSubsetDifference_Memoize(616, [11, 23, 37, 48, 94, 152, 230, 312, 339, 413])) # should be 1"
   ]
  },
  {
   "cell_type": "markdown",
   "metadata": {},
   "source": [
    "## 4(D): Write code to recover the solution"
   ]
  },
  {
   "cell_type": "code",
   "execution_count": 3,
   "metadata": {},
   "outputs": [],
   "source": [
    "def minSubsetDifference(N, s_list):\n",
    "    \n",
    "    # initialize N as target to avoid changing its value\n",
    "    # initialize solutions array and difference var\n",
    "    target = N\n",
    "    solution_list = s_list\n",
    "    difference = 0\n",
    "    \n",
    "    for i in range(2**len(s_list)):  \n",
    "        # use the 1s and 0s to check all the possible sums\n",
    "        options = str(numpy.base_repr(i, base=2, padding=len(s_list))[-len(s_list):])\n",
    "        memo = []  # initialize memo table\n",
    "        \n",
    "        for j in range(len(options)):\n",
    "            if options[j]=='1':\n",
    "                memo += [s_list[j]]\n",
    "        \n",
    "        # count 1s for current sum\n",
    "        num_sum = sum(memo)\n",
    "        \n",
    "        # base case -> if the current sum is <= N, and difference is under N, save in solutions list and update target\n",
    "        if num_sum <= N:\n",
    "            m = N - num_sum\n",
    "            if m < target:\n",
    "                solution_list = memo\n",
    "                target = m\n",
    "        \n",
    "        # get the absolute value of the difference with N\n",
    "        min_difference = abs(N - sum(solution_list))\n",
    "\n",
    "    return min_difference, solution_list"
   ]
  },
  {
   "cell_type": "code",
   "execution_count": 4,
   "metadata": {},
   "outputs": [
    {
     "name": "stdout",
     "output_type": "stream",
     "text": [
      "(0, [5, 10])\n",
      "(1, [1, 2, 3, 4, 5, 10])\n",
      "(0, [1, 3, 4, 5, 10])\n",
      "(0, [3, 5, 10])\n",
      "(0, [4, 5])\n",
      "(1, [23, 94, 339])\n",
      "(0, [48, 152, 312])\n",
      "(1, [23, 37, 48, 94, 413])\n"
     ]
    }
   ],
   "source": [
    "# Code for testing your solution\n",
    "# DO NOT EDIT\n",
    "print(minSubsetDifference(15, [1, 2, 3, 4, 5, 10])) # Should be 0, [5, 10]\n",
    "print(minSubsetDifference(26, [1, 2, 3, 4, 5, 10])) # should be 1, [1, 2, 3, 4, 5, 10]\n",
    "print(minSubsetDifference(23, [1, 2, 3, 4, 5, 10])) # should be 0, [1, 3, 4, 5, 10]\n",
    "print(minSubsetDifference(18, [1, 2, 3, 4, 5, 10])) # should be 0, [3, 5, 10]\n",
    "print(minSubsetDifference(9, [1, 2, 3, 4, 5, 10])) # should be 0, [4, 5]\n",
    "print(minSubsetDifference(457, [11, 23, 37, 48, 94, 152, 230, 312, 339, 413])) # should be 1, [23, 94, 339]\n",
    "print(minSubsetDifference(512, [11, 23, 37, 48, 94, 152, 230, 312, 339, 413])) # should be 0, [48, 152, 312]\n",
    "print(minSubsetDifference(616, [11, 23, 37, 48, 94, 152, 230, 312, 339, 413])) # should be 1, [23, 37, 48, 94, 413]"
   ]
  },
  {
   "cell_type": "markdown",
   "metadata": {},
   "source": [
    "## 4 (E): Greedy Solution\n",
    "\n",
    "Suppose we use the following greedy solution to solve the problem.\n",
    "  * $T = \\emptyset$\n",
    "  * While ( $ N \\geq 0 $) \n",
    "    * Select the largest element $e$ for $S$ that is smaller than $N$\n",
    "    * Remove $e$ from $S$\n",
    "    * Add $e$ to $T$\n",
    "    * N = N - e\n",
    "  * return (N, T)\n",
    "  \n",
    "Using an example, show that the greedy algorithm does not necessarily produce the optimal solution."
   ]
  },
  {
   "cell_type": "markdown",
   "metadata": {},
   "source": [
    "### Answer (4 lines)"
   ]
  },
  {
   "cell_type": "markdown",
   "metadata": {},
   "source": [
    "__Answer__\n",
    "\n",
    "In the test cases above, we worked with N = 23, S = [1, 2, 3, 4, 5, 10].\n",
    "As shown, dynamic programming yields the optimal solution for the minimum difference between N and a sum of elements in set S as 0. However, if we decided to use the greedy algorithm described above, we would have obtained a minimum difference of 1. \n",
    "\n",
    "At each step, pick largest unchosen element e of S to subtract from N: \n",
    "\n",
    "N=23\n",
    "\n",
    "__Step 1:__\n",
    "\n",
    "e = 10\n",
    "\n",
    "N = N - e = 13\n",
    "\n",
    "__Step 2:__\n",
    "\n",
    "e = 5\n",
    "\n",
    "N = N - e = 8\n",
    "\n",
    "__Step 3:__\n",
    "\n",
    "e = 4\n",
    "\n",
    "N = N - e = 4\n",
    "\n",
    "__Step 4:__\n",
    "\n",
    "e = 3\n",
    "\n",
    "N = N - e = 1\n",
    "\n",
    "We are thus left with 1, and because our next largest element of S is 2, we have to stop there. \n",
    "This gives us a difference of 23-10-5-4-3 = 1, rather than the optimal 0 difference that we get by picking [10, 5, 4, 3, 1], since 23-10-5-4-3-1 = 0."
   ]
  },
  {
   "cell_type": "markdown",
   "metadata": {},
   "source": [
    "## Testing your solutions -- Do not edit code beyond this point"
   ]
  },
  {
   "cell_type": "code",
   "execution_count": null,
   "metadata": {},
   "outputs": [],
   "source": []
  },
  {
   "cell_type": "code",
   "execution_count": null,
   "metadata": {},
   "outputs": [],
   "source": []
  }
 ],
 "metadata": {
  "kernelspec": {
   "display_name": "Python 3",
   "language": "python",
   "name": "python3"
  },
  "language_info": {
   "codemirror_mode": {
    "name": "ipython",
    "version": 3
   },
   "file_extension": ".py",
   "mimetype": "text/x-python",
   "name": "python",
   "nbconvert_exporter": "python",
   "pygments_lexer": "ipython3",
   "version": "3.7.0"
  }
 },
 "nbformat": 4,
 "nbformat_minor": 2
}
