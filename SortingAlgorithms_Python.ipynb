{
 "cells": [
  {
   "cell_type": "markdown",
   "metadata": {},
   "source": [
    "# Programming Assignment \\# 1\n",
    "\n",
    "__Goal:__ \n",
    "\n",
    "This programming assignment will ask you to do the following tasks.\n",
    "\n",
    "(a) Implement some of the sorting algorithms for sorting integer data in ascending order in python3.\n",
    "  - Simple sort \n",
    "  - Bubble Sort\n",
    "  - Merge Sort\n",
    "  - Quicksort \n",
    "  \n",
    "  \n",
    "(b) Your implementation must count the number of *compare* operations each sorting algorithm carries out.\n",
    "    \n",
    "(c) You must formulate a series of arrays of lengths from $5$ to $100$  (step by 5), that will form the worst case of these\n",
    "sorting algorithms and plot the number of comparisons in the __worst case__ vs. size of input array (x axis)\n",
    " \n",
    "(d) Generate $1000$ random inputs for each size and compute average time. Plot the size of input array (x axis) vs. number of comparisons (y axis)"
   ]
  },
  {
   "cell_type": "markdown",
   "metadata": {},
   "source": [
    "----\n",
    "## Simple Sort"
   ]
  },
  {
   "cell_type": "code",
   "execution_count": 1,
   "metadata": {},
   "outputs": [],
   "source": [
    "%matplotlib inline\n",
    "import matplotlib\n",
    "import numpy as np\n",
    "import matplotlib.pyplot as plt\n",
    "\n",
    "def simple_sort(a):\n",
    "    # must sort the array a in place and return the number of comparisons\n",
    "    num_compare = 0\n",
    "    n = len(a)\n",
    "    for i in range(0, n): # i goes from 0 to n-1\n",
    "        for j in range(i+1, n): # j goes from i+1 to n-1\n",
    "            num_compare = num_compare + 1\n",
    "            if a[i] >= a[j]:\n",
    "                # swap\n",
    "                a[i], a[j] = a[j], a[i]\n",
    "    return num_compare"
   ]
  },
  {
   "cell_type": "code",
   "execution_count": 2,
   "metadata": {},
   "outputs": [
    {
     "name": "stdout",
     "output_type": "stream",
     "text": [
      "Num Comparison =  45\n",
      "Sorted Result =  [-2, -1, 1, 2, 3, 3, 4, 10, 15, 29]\n"
     ]
    }
   ],
   "source": [
    "# TESTING CODE\n",
    "a = [3, 10, 1, 29, -1, 4, 3, 15, 2, -2]\n",
    "nc = simple_sort(a)\n",
    "print('Num Comparison = ', nc)\n",
    "print('Sorted Result = ', a)"
   ]
  },
  {
   "cell_type": "markdown",
   "metadata": {},
   "source": [
    "### Complexity analysis of simple sort.\n",
    "\n",
    "Simple Sort consists of two loops, and regardless of the input array, the first loop runs n steps. The second loop runs $n-i-1$ steps where $i$ is the index of the first loop. Thus, the worst case, best case and average case complexity should be $\\sum_{j=1}^{n-1} j = \\frac{n(n-1)}{2}$ comparisons = $\\Theta(n^2)$\n",
    "\n",
    "The code below plots comparisons for arrays of size 5, 10, ..., 100. However, we cannot really distinguish between the number of comparisons for randomized vs. worst case."
   ]
  },
  {
   "cell_type": "code",
   "execution_count": 3,
   "metadata": {},
   "outputs": [
    {
     "data": {
      "image/png": "[encoded data removed]",
      "text/plain": [
       "<Figure size 432x288 with 1 Axes>"
      ]
     },
     "metadata": {
      "needs_background": "light"
     },
     "output_type": "display_data"
    }
   ],
   "source": [
    "import random\n",
    "\n",
    "# CODE TO GENERATE WORST CASE\n",
    "array_sizes = range(5, 100, 5)\n",
    "\n",
    "# Code for creating an already sorted array\n",
    "def create_ascending_sorted_array(a_size):\n",
    "    a = []\n",
    "    for i in range(a_size):\n",
    "        a.append(i)\n",
    "    return a\n",
    "\n",
    "# Code for creating a random array\n",
    "def create_random_shuffled_array(a_size):\n",
    "    a = list(range(a_size))\n",
    "    random.shuffle(a)\n",
    "    return a\n",
    "\n",
    "\n",
    "# Code for running sorting and generating number of compares\n",
    "num_compares_wc = []\n",
    "for n in array_sizes:\n",
    "    a = create_ascending_sorted_array(n)\n",
    "    nc = simple_sort(a)\n",
    "    num_compares_wc.append(nc)\n",
    "    \n",
    "# Randomized comparisons\n",
    "num_compares_random = []\n",
    "num_trials = 1000\n",
    "for n in array_sizes:\n",
    "    total = 0\n",
    "    for m in range(num_trials):\n",
    "        a = create_random_shuffled_array(n)\n",
    "        nc = simple_sort(a)\n",
    "        total = total + nc\n",
    "    avg = total / num_trials\n",
    "    num_compares_random.append(avg)\n",
    "# Code for plotting\n",
    "\n",
    "plt.plot(array_sizes, num_compares_wc, label='Worst Case')\n",
    "plt.plot(array_sizes, num_compares_random, label='Average Case')\n",
    "plt.legend(['Worst Case', 'Average Case'])\n",
    "plt.title('Simple Sort (Worst and Average Cases)')\n",
    "plt.xlabel('Array Size')\n",
    "plt.ylabel('Number of Comparisons')\n",
    "\n",
    "plt.show()"
   ]
  },
  {
   "cell_type": "markdown",
   "metadata": {},
   "source": [
    "----\n",
    "\n",
    "### Bubble Sort"
   ]
  },
  {
   "cell_type": "code",
   "execution_count": 4,
   "metadata": {},
   "outputs": [],
   "source": [
    "# this function traverses the array n−1 times, comparing every element to the one after it \n",
    "# swaps them if the value on the left is larger than value in the right\n",
    "# returns the total number of comparisons made\n",
    "\n",
    "def bubble_sort(a):\n",
    "    num_compares = 0\n",
    "    for index in range(len(a)-1,0,-1):\n",
    "        for i in range(index):\n",
    "            num_compares = num_compares + 1\n",
    "            if a[i]>a[i+1]:\n",
    "                temp = a[i]\n",
    "                a[i] = a[i+1]\n",
    "                a[i+1] = temp\n",
    "\n",
    "    return num_compares"
   ]
  },
  {
   "cell_type": "markdown",
   "metadata": {},
   "source": [
    "### Complexity Analysis of Bubble Sort\n",
    "\n",
    "The best case complexity for Bubble Sort is $\\Theta(n)$, which occurs when the array of size n is already sorted, thus no swaps take place and only 1 iteration of the array is needed. However, this is only one scenario among many; the average case complexity of bubble sort is actually $\\Theta(n^{2})$.\n",
    "\n",
    "The worst case complexity is also $\\Theta(n^{2})$, which occurs if the array is sorted  in descending order. In this case, there is a first iteration of n elements, followed by another of n - 1 elements, down to the last element left to compare. \n",
    "This translates into n + (n - 1) + (n - 2) ... + 1 = $\\frac{n*(n + 1)}{2}$ = $\\Theta(n^{2})$.\n",
    "\n",
    "Thus, Bubble Sort has equal asymptotic average case and worst case complexities (the difference between them is only a constant factor). \n",
    "\n",
    "The function *bubble_burst* below was created to generate the worst case input, an array sorted in reverse order.\n",
    "\n",
    "The graph reflects that we cannot really distinguish between the number of comparisons for average vs. worst case."
   ]
  },
  {
   "cell_type": "code",
   "execution_count": 82,
   "metadata": {},
   "outputs": [
    {
     "name": "stdout",
     "output_type": "stream",
     "text": [
      "[10, 9, 8, 7, 6, 5, 4, 3, 2, 1]\n"
     ]
    }
   ],
   "source": [
    "# WC FUNCTION DEMO\n",
    "\n",
    "def bubble_burst(a_size):\n",
    "    a = []\n",
    "    for i in range(a_size,0,-1):\n",
    "        a.append(i)\n",
    "    \n",
    "    return a\n",
    "\n",
    "print(bubble_burst(10))"
   ]
  },
  {
   "cell_type": "code",
   "execution_count": 5,
   "metadata": {},
   "outputs": [
    {
     "data": {
      "image/png": "[encoded data removed]",
      "text/plain": [
       "<Figure size 432x288 with 1 Axes>"
      ]
     },
     "metadata": {
      "needs_background": "light"
     },
     "output_type": "display_data"
    }
   ],
   "source": [
    "array_sizes = range(5, 100, 5)\n",
    "\n",
    "# CODE TO GENERATE WORST CASE - array in descending order\n",
    "def bubble_burst(a_size):\n",
    "    a = []\n",
    "    for i in range(a_size,0,-1):\n",
    "        a.append(i)\n",
    "    \n",
    "    return a\n",
    "\n",
    "# Code for running sorting and generating number of compares\n",
    "num_compares_wc = []\n",
    "for n in array_sizes:\n",
    "    a = bubble_burst(n)\n",
    "    nc = bubble_sort(a)\n",
    "    num_compares_wc.append(nc)\n",
    "    \n",
    "# Randomized comparisons\n",
    "num_compares_random = []\n",
    "num_trials = 1000\n",
    "for n in array_sizes:\n",
    "    total = 0\n",
    "    for m in range(num_trials):\n",
    "        a = create_random_shuffled_array(n)\n",
    "        nc = bubble_sort(a)\n",
    "        total = total + nc\n",
    "    avg = total / num_trials\n",
    "    num_compares_random.append(avg)\n",
    "# Code for plotting\n",
    "\n",
    "plt.plot(array_sizes, num_compares_wc, label='Worst Case')\n",
    "plt.plot(array_sizes, num_compares_random, label='Average Case')\n",
    "plt.legend(['Worst Case', 'Average Case'])\n",
    "plt.title('Bubble Sort (Worst and Average Cases)')\n",
    "plt.xlabel('Array Size')\n",
    "plt.ylabel('Number of Comparisons')\n",
    "\n",
    "plt.show()"
   ]
  },
  {
   "cell_type": "markdown",
   "metadata": {},
   "source": [
    "----\n",
    "### Merge Sort"
   ]
  },
  {
   "cell_type": "code",
   "execution_count": 29,
   "metadata": {},
   "outputs": [],
   "source": [
    "# this function receives an array and recursively splits it in half until it has length 1\n",
    "# then compares the values of the subarrays and copies them in order into a new array\n",
    "# it only returns the number of value comparisons made\n",
    "\n",
    "def merge_sort_recursive(a, num_compares):\n",
    "    \n",
    "    if len(a) > 1:\n",
    "        mid = len(a) // 2\n",
    "        left = a[:mid]\n",
    "        right = a[mid:]\n",
    "\n",
    "        num_compares = merge_sort_recursive(left, num_compares)\n",
    "        num_compares = merge_sort_recursive(right, num_compares)\n",
    "\n",
    "        i = 0\n",
    "        j = 0\n",
    "        k = 0\n",
    "        \n",
    "        while i < len(left) and j < len(right):\n",
    "            num_compares = num_compares + 1\n",
    "            if left[i] < right[j]:\n",
    "                a[k] = left[i]\n",
    "                i = i + 1\n",
    "            else:\n",
    "                a[k] = right[j]\n",
    "                j = j + 1\n",
    "            k = k + 1\n",
    "\n",
    "        while i < len(left):\n",
    "            num_compares = num_compares + 1\n",
    "            a[k] = left[i]\n",
    "            i = i + 1\n",
    "            k = k + 1\n",
    "\n",
    "        while j < len(right):\n",
    "            num_compares = num_compares + 1\n",
    "            a[k] = right[j]\n",
    "            j = j + 1\n",
    "            k = k + 1\n",
    "        \n",
    "    return num_compares"
   ]
  },
  {
   "cell_type": "code",
   "execution_count": 30,
   "metadata": {},
   "outputs": [],
   "source": [
    "# main mergesort function. receives an array, calls merge_sort_recursive and passes the array and initial count of comparisons\n",
    "# returns the number of comparisons made\n",
    "\n",
    "def merge_sort(a):\n",
    "    \n",
    "    num_compares = 0\n",
    "    \n",
    "    return merge_sort_recursive(a, num_compares)"
   ]
  },
  {
   "cell_type": "markdown",
   "metadata": {},
   "source": [
    "### Complexity Analysis of Merge Sort\n",
    "\n",
    "The average and worst case complexity of Merge Sort for an input of size n is given by the recurrence T(n) = 2 * T($\\frac{n}{2}$) + $\\Theta(n)$, which can be solved as $\\Theta(n log n)$. The supporting operations in the split and merge steps occur in $\\Theta(n)$, and halving the arrays at every iteration gives us $\\Theta(log n)$. \n",
    "\n",
    "The worst case complexity can be reached with an input where all numbers are out of order with the one that should immediately follow it, and they are placed on opposite halves of the array. This results in the maximum number of comparisons as it will take reaching the base case to compare elements that must lie adjacent to one another.\n",
    "\n",
    "The function *alternate* below was created to generate the worst case input. As shown below, however, we cannot really distinguish between the number of comparisons for average vs. worst case."
   ]
  },
  {
   "cell_type": "code",
   "execution_count": 81,
   "metadata": {},
   "outputs": [
    {
     "name": "stdout",
     "output_type": "stream",
     "text": [
      "[1, 3, 5, 7, 9, 0, 2, 4, 6, 8]\n"
     ]
    }
   ],
   "source": [
    "# WC FUNCTION DEMO\n",
    "\n",
    "# create a sorted array, grab the evens put them into one array, grab the odds put them in another\n",
    "# append one to the other. odds first to make sure pairs are out of order\n",
    "def alternate(a_size):\n",
    "    \n",
    "    init_array = []\n",
    "    for i in range(0, a_size):\n",
    "        init_array.append(i)\n",
    "\n",
    "    odds = []\n",
    "    for j in range(1, len(init_array),+2):\n",
    "        odds.append(j)\n",
    "    \n",
    "    evens = []\n",
    "    for m in range(0, len(init_array),+2):\n",
    "        evens.append(m)\n",
    "\n",
    "    for f in evens:\n",
    "        odds.append(f)\n",
    "\n",
    "    return odds\n",
    "\n",
    "print(alternate(10))"
   ]
  },
  {
   "cell_type": "code",
   "execution_count": 72,
   "metadata": {},
   "outputs": [
    {
     "data": {
      "image/png": "[encoded data removed]",
      "text/plain": [
       "<Figure size 432x288 with 1 Axes>"
      ]
     },
     "metadata": {
      "needs_background": "light"
     },
     "output_type": "display_data"
    }
   ],
   "source": [
    "array_sizes = range(5, 100, 5)\n",
    "\n",
    "# create a sorted array, grab the evens put them into one array, grab the odds put them in another\n",
    "# append one to the other. odds first to make sure pairs are out of order\n",
    "def alternate(a_size):\n",
    "    \n",
    "    init_array = []\n",
    "    for i in range(0, a_size):\n",
    "        init_array.append(i)\n",
    "\n",
    "    odds = []\n",
    "    for j in range(1, len(init_array),+2):\n",
    "        odds.append(j)\n",
    "    \n",
    "    evens = []\n",
    "    for m in range(0, len(init_array),+2):\n",
    "        evens.append(m)\n",
    "\n",
    "    for f in evens:\n",
    "        odds.append(f)\n",
    "\n",
    "    return odds\n",
    "\n",
    "\n",
    "# Code for running sorting and generating number of compares\n",
    "num_compares_wc = []\n",
    "for n in array_sizes:\n",
    "    a = alternate(n)\n",
    "    nc = merge_sort(a)\n",
    "    num_compares_wc.append(nc)\n",
    "    \n",
    "# Randomized comparisons\n",
    "num_compares_random = []\n",
    "num_trials = 1000\n",
    "for n in array_sizes:\n",
    "    total = 0\n",
    "    for m in range(num_trials):\n",
    "        a = create_random_shuffled_array(n)\n",
    "        nc = merge_sort(a)\n",
    "        total = total + nc\n",
    "    avg = total / num_trials\n",
    "    num_compares_random.append(avg)\n",
    "# Code for plotting\n",
    "\n",
    "plt.plot(array_sizes, num_compares_wc, label='Worst Case')\n",
    "plt.plot(array_sizes, num_compares_random, label='Average Case')\n",
    "plt.legend(['Worst Case', 'Average Case'])\n",
    "plt.title('Merge Sort (Worst and Average Cases)')\n",
    "plt.xlabel('Array Size')\n",
    "plt.ylabel('Number of Comparisons')\n",
    "\n",
    "plt.show()"
   ]
  },
  {
   "cell_type": "markdown",
   "metadata": {},
   "source": [
    "----\n",
    "### Quick Sort\n"
   ]
  },
  {
   "cell_type": "code",
   "execution_count": 4,
   "metadata": {},
   "outputs": [],
   "source": [
    "# partition function splits the array using the index passed on to it as \"first\" as the pivot, \n",
    "# first index after the pivot as \"left\", and \"last\" as the right index\n",
    "# returns the right index of last iteration and the number of comparisons made\n",
    "# right index will be used to \"split\" the array once more in recursive calls\n",
    "\n",
    "def partition(a, first, last, num_compares):\n",
    "\n",
    "    pivot = a[first]\n",
    "    left = first+1\n",
    "    right = last\n",
    "\n",
    "    done = False\n",
    "    while not done:\n",
    "\n",
    "        while left <= right and a[left] <= pivot:\n",
    "            num_compares = num_compares + 1\n",
    "            left = left + 1\n",
    "\n",
    "        while a[right] >= pivot and right >= left:\n",
    "            num_compares = num_compares + 1\n",
    "            right = right -1\n",
    "\n",
    "        if right < left:\n",
    "            done = True\n",
    "            \n",
    "        else:\n",
    "            temp = a[left]\n",
    "            a[left] = a[right]\n",
    "            a[right] = temp\n",
    "\n",
    "    temp = a[first]\n",
    "    a[first] = a[right]\n",
    "    a[right] = temp\n",
    "\n",
    "    return right, num_compares"
   ]
  },
  {
   "cell_type": "code",
   "execution_count": 9,
   "metadata": {},
   "outputs": [],
   "source": [
    "# helper function receives an array, left and right indices \n",
    "# recursively \"splits\" the array, using the partition function\n",
    "# returns the number of comparisons made within the partition function\n",
    "\n",
    "def quick_sort_helper(a, first, last, num_compares):\n",
    "    if first < last:\n",
    "\n",
    "        split, num_compares = partition(a, first, last, num_compares)\n",
    "\n",
    "        num_compares =+ quick_sort_helper(a, first, split-1, num_compares) \n",
    "        \n",
    "        num_compares =+ quick_sort_helper(a, split+1, last, num_compares)\n",
    "    \n",
    "    return num_compares"
   ]
  },
  {
   "cell_type": "code",
   "execution_count": 10,
   "metadata": {},
   "outputs": [],
   "source": [
    "# main quicksort function, sorts an array in-place \n",
    "# receives an array, calls quick_sort_helper, returns number of comparisons made\n",
    "\n",
    "def quick_sort(a):\n",
    "    \n",
    "    num_compares = 0\n",
    "    \n",
    "    return quick_sort_helper(a, 0, len(a)-1, num_compares)"
   ]
  },
  {
   "cell_type": "markdown",
   "metadata": {},
   "source": [
    "### Complexity Analysis of Quick Sort\n",
    "\n",
    "Given an array of size n of distinct elements, the average complexity of Quicksort with a good choice of pivot is given by the recurrence T(n) = 2 * T($\\frac{n}{2}$) + $\\Theta(n)$, which can be solved as $\\Theta(n log n)$.\n",
    "\n",
    "The worst case complexity for mergesort is given by T(n) = T(n-1) + $\\Theta({n})$, solved as $\\Theta(n^{2})$. Reaching this WC will depend on the implementation. The way that a quicksort algorithm selects the pivot affects the kind of inputs that will yield the worst case running time (this is not an exhaustive list of ways that a pivot can be picked, just some examples to illustrate the effect of pivot choice):\n",
    "\n",
    "1. If the pivot is always assigned to the first or last element in the array: an input of numbers sorted in descending order will lead to a fully unbalanced partitioning, and the largest number of comparisons possible;\n",
    "2. If the pivot is assigned in a random fashion, because we have the same probability of picking any element in the array as the pivot, this will equal the average case complexity;\n",
    "3. If the pivot is chosen using a median of medians strategy, we are guaranteed to maintain approximately a 2:1 ratio on each side of the pivot, so this is the safest strategy to avoid worst case running time.\n",
    "\n",
    "Finally, regardless of the choice of pivot, an array of numbers that have equal values will also hit WC complexity; since all values are the same, each recursive call will lead to unbalanced partitioning.\n",
    "\n",
    "The function *descending* is used below to generate a worst case input for my implementation where the pivot is always chosen as the first item: an array sorted in reverse order. Below it, I also included the function *same_all* to generate an array with all elements of equal value to test out this scenario."
   ]
  },
  {
   "cell_type": "markdown",
   "metadata": {},
   "source": [
    "### Worst Case using array in descending order"
   ]
  },
  {
   "cell_type": "code",
   "execution_count": 11,
   "metadata": {},
   "outputs": [
    {
     "name": "stdout",
     "output_type": "stream",
     "text": [
      "[10, 9, 8, 7, 6, 5, 4, 3, 2, 1]\n"
     ]
    }
   ],
   "source": [
    "# WC FUNCTION DEMO\n",
    "\n",
    "def descending(a_size):\n",
    "    a = []\n",
    "    for i in range(a_size,0,-1):\n",
    "        a.append(i)\n",
    "        \n",
    "    return a\n",
    "\n",
    "print(descending(10))"
   ]
  },
  {
   "cell_type": "code",
   "execution_count": 12,
   "metadata": {},
   "outputs": [
    {
     "data": {
      "image/png": "[encoded data removed]",
      "text/plain": [
       "<Figure size 432x288 with 1 Axes>"
      ]
     },
     "metadata": {
      "needs_background": "light"
     },
     "output_type": "display_data"
    }
   ],
   "source": [
    "array_sizes = range(5, 100, 5)\n",
    "\n",
    "# CODE TO GENERATE WORST CASE - array in descending order\n",
    "def descending(a_size):\n",
    "    a = []\n",
    "    for i in range(a_size,0,-1):\n",
    "        a.append(i)\n",
    "        \n",
    "    return a\n",
    "\n",
    "# Code for running sorting and generating number of compares\n",
    "num_compares_wc = []\n",
    "for n in array_sizes:\n",
    "    a = descending(n)\n",
    "    nc = quick_sort(a)\n",
    "    num_compares_wc.append(nc)\n",
    "    \n",
    "# Randomized comparisons\n",
    "num_compares_random = []\n",
    "num_trials = 1000\n",
    "for n in array_sizes:\n",
    "    total = 0\n",
    "    for m in range(num_trials):\n",
    "        a = create_random_shuffled_array(n)\n",
    "        nc = quick_sort(a)\n",
    "        total = total + nc\n",
    "    avg = total / num_trials\n",
    "    num_compares_random.append(avg)\n",
    "    \n",
    "# Code for plotting\n",
    "plt.plot(array_sizes, num_compares_wc, label='Worst Case')\n",
    "plt.plot(array_sizes, num_compares_random, label='Average Case')\n",
    "plt.legend(['Worst Case', 'Average Case'])\n",
    "plt.title('Quick Sort (Worst and Average Cases)')\n",
    "plt.xlabel('Array Size')\n",
    "plt.ylabel('Number of Comparisons')\n",
    "\n",
    "plt.show()"
   ]
  },
  {
   "cell_type": "markdown",
   "metadata": {},
   "source": [
    "### Worst Case using array of all equal elements"
   ]
  },
  {
   "cell_type": "code",
   "execution_count": 13,
   "metadata": {},
   "outputs": [
    {
     "name": "stdout",
     "output_type": "stream",
     "text": [
      "[8, 8, 8, 8, 8, 8, 8, 8, 8, 8]\n"
     ]
    }
   ],
   "source": [
    "# WC FUNCTION DEMO\n",
    "\n",
    "def same_all(a_size):\n",
    "    \n",
    "    # generate random value\n",
    "    value = 0\n",
    "    for x in range(1):\n",
    "          value = random.randint(0,9)\n",
    "    \n",
    "    # add copies of value to fill the length of a_size\n",
    "    a = []\n",
    "    for i in range(a_size,0,-1):\n",
    "        a.append(value)\n",
    "    \n",
    "    return a\n",
    "\n",
    "print(same_all(10))"
   ]
  },
  {
   "cell_type": "code",
   "execution_count": 14,
   "metadata": {},
   "outputs": [
    {
     "data": {
      "image/png": "[encoded data removed]",
      "text/plain": [
       "<Figure size 432x288 with 1 Axes>"
      ]
     },
     "metadata": {
      "needs_background": "light"
     },
     "output_type": "display_data"
    }
   ],
   "source": [
    "array_sizes = range(5, 100, 5)\n",
    "\n",
    "# CODE TO GENERATE WORST CASE - all elements equal value\n",
    "def same_all(a_size):\n",
    "    \n",
    "    # generate random value\n",
    "    value = 0\n",
    "    for x in range(1):\n",
    "          value = random.randint(0,9)\n",
    "    \n",
    "    # add copies of value to fill the length of a_size\n",
    "    a = []\n",
    "    for i in range(a_size,0,-1):\n",
    "        a.append(value)\n",
    "    \n",
    "    return a\n",
    "\n",
    "# Code for running sorting and generating number of compares\n",
    "num_compares_wc = []\n",
    "for n in array_sizes:\n",
    "    a = same_all(n)\n",
    "    nc = quick_sort(a)\n",
    "    num_compares_wc.append(nc)\n",
    "    \n",
    "# Randomized comparisons\n",
    "num_compares_random = []\n",
    "num_trials = 1000\n",
    "for n in array_sizes:\n",
    "    total = 0\n",
    "    for m in range(num_trials):\n",
    "        a = create_random_shuffled_array(n)\n",
    "        nc = quick_sort(a)\n",
    "        total = total + nc\n",
    "    avg = total / num_trials\n",
    "    num_compares_random.append(avg)\n",
    "# Code for plotting\n",
    "\n",
    "plt.plot(array_sizes, num_compares_wc, label='Worst Case')\n",
    "plt.plot(array_sizes, num_compares_random, label='Average Case')\n",
    "plt.legend(['Worst Case', 'Average Case'])\n",
    "plt.title('Quick Sort (Worst and Average Cases)')\n",
    "plt.xlabel('Array Size')\n",
    "plt.ylabel('Number of Comparisons')\n",
    "\n",
    "plt.show()"
   ]
  },
  {
   "cell_type": "markdown",
   "metadata": {},
   "source": [
    "-----\n",
    "## Testing Code: Do not edit\n",
    "\n"
   ]
  },
  {
   "cell_type": "code",
   "execution_count": 13,
   "metadata": {},
   "outputs": [],
   "source": [
    "def test_sorting_algorithm(sort_fun, sz, num_trials):\n",
    "    num_passed = 0\n",
    "    for i in range(num_trials):\n",
    "        a = create_random_shuffled_array(sz)\n",
    "        a_orig = list(a) # make a copy\n",
    "        b = sorted(a)\n",
    "        nc = sort_fun(a)\n",
    "        if a == b:\n",
    "            num_passed = num_passed + 1\n",
    "        else:\n",
    "            print('----')\n",
    "            print('FAILED: Input = ', a_orig)\n",
    "            print('Expected: ', b)\n",
    "            print('Obtained:', a)\n",
    "            print('----')\n",
    "    print('Num Trials = ', num_trials)\n",
    "    print('Num Passed = ', num_passed)"
   ]
  },
  {
   "cell_type": "code",
   "execution_count": 27,
   "metadata": {},
   "outputs": [
    {
     "name": "stdout",
     "output_type": "stream",
     "text": [
      "Num Trials =  100\n",
      "Num Passed =  100\n"
     ]
    }
   ],
   "source": [
    "test_sorting_algorithm(simple_sort, 50, 100)"
   ]
  },
  {
   "cell_type": "code",
   "execution_count": 43,
   "metadata": {},
   "outputs": [
    {
     "name": "stdout",
     "output_type": "stream",
     "text": [
      "Num Trials =  10\n",
      "Num Passed =  10\n"
     ]
    }
   ],
   "source": [
    "test_sorting_algorithm(bubble_sort, 10, 10)"
   ]
  },
  {
   "cell_type": "code",
   "execution_count": 44,
   "metadata": {},
   "outputs": [
    {
     "name": "stdout",
     "output_type": "stream",
     "text": [
      "Num Trials =  10\n",
      "Num Passed =  10\n"
     ]
    }
   ],
   "source": [
    "test_sorting_algorithm(merge_sort, 10, 10)"
   ]
  },
  {
   "cell_type": "code",
   "execution_count": 45,
   "metadata": {},
   "outputs": [
    {
     "name": "stdout",
     "output_type": "stream",
     "text": [
      "Num Trials =  10\n",
      "Num Passed =  10\n"
     ]
    }
   ],
   "source": [
    "test_sorting_algorithm(quick_sort, 10, 10)"
   ]
  },
  {
   "cell_type": "code",
   "execution_count": null,
   "metadata": {},
   "outputs": [],
   "source": []
  }
 ],
 "metadata": {
  "kernelspec": {
   "display_name": "Python 3",
   "language": "python",
   "name": "python3"
  },
  "language_info": {
   "codemirror_mode": {
    "name": "ipython",
    "version": 3
   },
   "file_extension": ".py",
   "mimetype": "text/x-python",
   "name": "python",
   "nbconvert_exporter": "python",
   "pygments_lexer": "ipython3",
   "version": "3.7.0"
  }
 },
 "nbformat": 4,
 "nbformat_minor": 2
}
