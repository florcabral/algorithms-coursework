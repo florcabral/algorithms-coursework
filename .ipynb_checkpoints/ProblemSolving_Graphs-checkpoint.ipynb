{
 "cells": [
  {
   "cell_type": "markdown",
   "metadata": {},
   "source": [
    "# Graphs Problem Solving"
   ]
  },
  {
   "cell_type": "markdown",
   "metadata": {},
   "source": [
    "## Question 1: Arbitrage Opportunities\n",
    "\n",
    "An arbitrage in finance is a way to make money for sure without much risk. For instance, suppose 1 USD yields 5 Chinese RMB and 1 RMB trades for 0.4 Euros, and 1 Euro trades for 0.52 USD,  you have an arbitrage opportunity\n",
    "wherein you can take x USD, obtain 5x RMB, and in turn trade them for 2x Euros and finally end up with 1.02x USD back. Every time you exercise this opportunity, you get a 2 cent profit (assuming you can trade for free and there is no spread in the buying and selling prices, but that is another can of worms).\n",
    "\n",
    "In theory, arbitrage cannot exist in efficient markets but they can persist for a short amount of time. Electronic traders can then search for such opportunities in real time and rapidly exploit them.\n",
    "\n",
    "You are given a basket of $n$ currencies and for each pair of currencies $(C_i,C_j)$, you are given a ratio\n",
    "$R_{i,j}$ that says that one unit of currency $C_i$ is currently fetching $R_{i,j}$ units of $C_j$.\n",
    "\n",
    "__(A)__ Given the ratios $R_{i,j}$ write an efficient algorithm that can detect if any arbitrage opportunities currently exist? What is the running time of your algorithm?\n",
    "\n",
    "(__Hint:__ Make a graph out of the problem data. What does the presence of arbitrage mean for this graph? )\n",
    "\n",
    "__(B)__ We are not just interested in finding an arbitrage opportunity, but also interested in finding the shortest length opportunity, defined as one that involves the smallest number of trades? Naturally, given that prices change\n",
    "and also given that there are trading fees, such opportunities are more desirable. \n",
    "\n",
    "Write an algorithm to find the smallest length arbitrage opportunity? What is the running time for your algorithm?\n",
    "\n",
    "(__Hint:__ Modify the Floyd Warshall algorithm you learned this week. In particular, how do you detect if there is a negative weight cycle of length k in the graph?)\n",
    "\n",
    "\n"
   ]
  },
  {
   "cell_type": "markdown",
   "metadata": {},
   "source": [
    "## Answer #1\n",
    "\n",
    "__(A)__\n",
    "\n",
    "We could represent this problem as a directed graph, where currencies are represented by nodes, and weighted edges connect any pair of currencies $(C_i,C_j)$ for which there is an exchange rate, with the edge's weight being $R_{i,j}$ in the direction $C_i -> C_j$, and $1/(R_{i,j})$ for $C_j -> C_i$. \n",
    "\n",
    "An arbitrage would be detected with the presence of a cycle, where we can exchange $C_i$ for $C_j$, $C_j$ for $C_m$, then again $C_m$ for $C_i$, and make money from the difference between our starting and ending amounts of $C_i$. In other words, if our value after traversing the cycle was higher than the starting value.\n",
    "\n",
    "To detect such a cycle, we would first negate all edge weights, then run Floyd-Warshall's algorithm and check if the resulting SP distance matrix has any negative values connecting nodes to themselves (on the diagonal). If there are, then there is a negative-weight cycle, and we know there is a cycle in the original graph. \n",
    "\n",
    "*Running Time*:\n",
    "\n",
    "Building the V * V distance matrix, in the worst case where it is full, takes $\\Theta({V^2})$. Then, since F-W uses a 3-nested for loop, its running time is $\\Theta({V^3})$, where V=n. Thus, the total running time of this algorithm is $\\Theta({V^2+V^3})$, or $\\Theta({V^3})$.\n",
    "\n",
    "\n",
    "__(B)__\n",
    "\n",
    "An algorithm to find the shortest possible arbitrage needs to find the shortest cycle in the graph. \n",
    "\n",
    "When we apply the Floyd–Warshall algorithm, we initially set distance[v][u] to Infinity, and distance[v][v] to 0. In other words, the distance from any vertex to another is Infinity, and the distance from any vertex v to itself is 0. We will use a modified version of F-W where we set the distance[v][v] to Infinity. This will allow us to look for the shortest path from v to v, essentially finding the shortest cycle involving v. Once we ran the algorithm and have all values for distance[v][v], we will have the length of the shortest cycle in the graph that contains vertex v for every v. Then, all we need to do is compute the minimum of all these values.\n",
    "\n",
    "*Running Time*:\n",
    "\n",
    "We'll use our graph from the previous section.\n",
    "The running time of this algorithm is that of Floyd–Warshall, $\\Theta({V^3})$, where V=n. The cost of comparison is constant."
   ]
  },
  {
   "cell_type": "markdown",
   "metadata": {},
   "source": [
    "----"
   ]
  },
  {
   "cell_type": "markdown",
   "metadata": {},
   "source": [
    "### Question 2: Longest Paths.\n",
    "\n",
    "Given a weighted, directed graph $G$, the longest simple path from vertex $s$ to $t$ is a path that (a) goes from $s$ to $t$, (b) cannot revisit a vertex along the path, and (c) has the maximum weight among all the paths going from $s$ to $t$.\n",
    "\n",
    "__(A)__ Show using an example that for any graph $G$, that the longest path problem is not equivalent to solving the shortest path problem by negating the edge weights. (*Hint* Negating edge weights will work but for a common problem that makes shortest paths undefined.)\n",
    "\n",
    "__(B)__ Show that if the graph $G$ is a DAG, the longest path problem can be solved by negating the edge weights and solving a shortest path problem. What is the running time cost?\n"
   ]
  },
  {
   "cell_type": "markdown",
   "metadata": {},
   "source": [
    "## Answer #2\n",
    "\n",
    "__(A)__ \n",
    "\n",
    "This method will not work for just any graph. We know that if graph G = (V,E) contains no negative-weight cycles reachable from source node s, then for all reachable vertices the shortest path weight is well defined, even if there are negative edges found. This means if the graph contains a negative-weight cycle reachable from the source s, shortest path weights are not well defined.\n",
    "\n",
    "Thus, in the solution described, if we had a graph with a cycle reachable from s that is part of the shortest path, negating the edges to solve for the shortest path problem would result in a negative edge cycle, making the shortest path undefined.\n",
    "\n",
    "__(B)__ \n",
    "\n",
    "Since we have a directed acyclic graph G, we know we won't encounter negative weight cycles after negating edges. Thus, a shortest path is well defined. In order to solve for the longest path, we would apply a modified shortest path algorithm for DAGs: negate edge weights, topologically sort vertices, and iterate through them in this order, relaxing edges as we go. Finally, negate the edges once more to get the longest path as the opposite of the shortest path found. \n",
    "\n",
    "The running time of this algorithm is linear: $\\Theta({|V|+|E|})$ (V=number of vertices, E=number of edges)."
   ]
  },
  {
   "cell_type": "markdown",
   "metadata": {},
   "source": [
    "----"
   ]
  },
  {
   "cell_type": "markdown",
   "metadata": {},
   "source": [
    "### Question 3: Being In the Right Place At the Right Time.\n",
    "\n",
    "You are helping a secret agent plan a series of rendezvous in a capital. The rendezvous are happening along different stations of a subway line at precisely hours $1, 2, \\ldots, n$.  The subway lines are numbered $1, \\ldots, m$.\n",
    "You are given the station ID $S_j$ for rendezvous number $j$. \n",
    "\n",
    "$$\\begin{array}{|l|c|c|c|c|c|}\n",
    "\\hline\n",
    "\\text{Rendezvous} & 1 & 2 & \\cdots & n-1 & n \\\\\n",
    "\\hline\n",
    "\\text{Station ID} & S_1 & S_2 & \\cdots & S_{n-1} & S_n \\\\\n",
    "\\hline \\end{array}$$\n",
    "\n",
    "The spy starts at station ID $1$ at time $0$ and further, must at all costs attend rendezvous $n$. In each hour, the agent is limited to travelling no more than $K$ stations along the line.  Thus, she decides to skip some of the rendezvous in favor of others.\n",
    "\n",
    "Provide an algorithm to calculate the maximum number of rendezvous the agent can make with the constraint that she must make rendezvous $n$. What is the running time?\n",
    "\n",
    "__Hint:__ As usual, it comes down to defining a graph and solving a suitable problem.\n"
   ]
  },
  {
   "cell_type": "markdown",
   "metadata": {},
   "source": [
    "## Answer #3\n",
    "\n",
    "Let's represent the initial problem setup, an undirected acyclic graph (subway line), where all nodes ($S_1\\dots S_n$) are connected and thus reachable from every other node. We know that the spy can only reach a station that is <= K stations away from her current one, must be at station $S_j$ at hour j to make a meeting, and she absolutely needs to visit $S_n$ (at hour n).\n",
    "\n",
    "First, we will draw the graph as is, reflecting the edges that currently connect every station/node. We assign a weight of 1 to every edge, and an edge weight of Infinity if 2 nodes are not connected. Then we sort the nodes in increasing order, to get the order in which meetings are happening. Since we start at $S_1$, we will just need to traverse this graph to $S_n$. \n",
    "\n",
    "We will run Dijkstra's shortest path algorithm (since it solves the single-source shortest paths problem) from starting points $S_1 \\dots S_n$ to  every other subsequent node. This considers that: 1. we need to attend our meetings in order, so we don't go backwards in time (i.e., an iteration doesn't start at $S_2$ and end at $S_1$); 2. since our edge weights are all 1, the shortest path will just be the least number of nodes visited to get from point A to point B. \n",
    "\n",
    "With this information, we create a new directed graph of all possible paths that involve <= K steps between nodes, starting at $S_1$ and ending at $S_n$.  \n",
    "\n",
    "To maximize the number of nodes visited, we weight each node with -1, and run Bellman-Ford algorithm to compute the \"shortest\" total path, considering that we subtract 1 from our total cost every time we visit a node for the first time. This will yield the path with the greatest number of nodes visited.\n",
    "\n",
    "*Running Time*:\n",
    "\n",
    "The running time of this algorithm includes constructing the graph, and running Dijkstra's and Bellman-Ford's algorithms once each. Let's say we construct the graph in $\\Theta({V+E})$ using an adjacency list structure, pick an implementation of Dijkstra's algorithm using a priority queue that runs in $\\Theta({(V+E)∗log V})$, and Bellman-Ford runs in $\\Theta({V*E})$. Thus, the total running time will be $\\Theta({(V+E)+[(V+E)*log V]+(V*E)})$."
   ]
  },
  {
   "cell_type": "markdown",
   "metadata": {},
   "source": [
    "----"
   ]
  },
  {
   "cell_type": "markdown",
   "metadata": {},
   "source": [
    "### Question 4: U-turn if you want to.\n",
    "\n",
    "A $N \\times N$ maze is defined by a graph with vertices $(i,j)$ for $1 \\leq i \\leq n$ and $1 \\leq j \\leq n$.\n",
    "Each node $(i,j)$ is connected to a subset of its four adjacent neighbors $\\{(i+1, j), (i, j+1), (i-1, j), (i, j-1) \\}$.\n",
    "\n",
    "The grid is laid out so that $(1,1)$ is the south west corner and $(n,n)$ is the northeast corner.\n",
    "\n",
    "The vehicle starts at $(1,1)$ *oriented north* and needs to reach $(n,n)$ *oriented east*.\n",
    "\n",
    "It can travel along the four cardinal directions $N, E, W, S$ and rapidly change these direction by \n",
    "making a left or right turn. Eg., changing heading from $N$ to $E$ \n",
    "requires making a right turn, $N$ to $W$ requires a left turn and $N$ to $S$\n",
    "requires either 2 left or 2 right turns.\n",
    "\n",
    "Find the minimimum cost path from $(1,1)$ oriented north to $(n,n)$ oriented east, \n",
    "where the cost is defined as the number of \n",
    "edges plus $2 \\times$ the number of left turns plus $3 \\times$ the number of right turns.\n",
    "\n",
    "What is the running time of your algorithm?\n",
    "\n",
    "*Hint* Define a new graph that helps us track not just the vehicle location but also its current travel direction.\n",
    "Define edge weights appropriately so that the shortest cost problem on this new graph will solve the original problem."
   ]
  },
  {
   "cell_type": "markdown",
   "metadata": {},
   "source": [
    "## Answer #4\n",
    "\n",
    "First, we will represent this problem with a graph such that every \"position\" is represented with 5 nodes: one node at the center, connected to 4 other nodes in the cardinal N,E,W,S positions. \n",
    "\n",
    "Edges are assigned in the following way:\n",
    "\n",
    "- Each edge going from the center node to its W node (left) will have weight 2, and an edge going in the opposite direction has weight 0 (we don't add to the cost for moving from the cardinal nodes to the center node). \n",
    "\n",
    "- Each edge going from the center node to its E node (right) will have weight 3, and an edge going in the opposite direction has weight 0.\n",
    "\n",
    "- Edges from and to the center node and its S,N nodes have weight 0.\n",
    "\n",
    "- Non-existent connections/edges are given a weight of Infinity (i.e., if a node is not connected to its Northern neighbor, our N node has an Infinity-weight edge to that neighbor). \n",
    "\n",
    "- Since each node  (i,j)  is connected to a subset of its four adjacent neighbors, each of the N,E,W,S nodes will have an edge weighted 1 to neighbors depending on whether there is a connection.  \n",
    "\n",
    "This way, when we compute our shortest path we will be adding 1 to the total path cost for each edge that connects nodes, 2 for every \"left turn\" and 3 for every \"right\" turn. Non-existent edges will not be chosen for the shortest paths.\n",
    "\n",
    "Now that we have this graph setup, we will run Dijkstra's algorithm from 1,1 and find the shortest path to n,n.\n",
    "   \n",
    "*Running Time*:\n",
    "\n",
    "We'll pick an implementation of Dijkstra's algorithm that runs in $\\Theta({(V+E) * log V})$. Since for every node n our graph has 5 nodes and 4 edges connecting them, this algorithm will be $\\Theta({(5*V+4*E) * log(5*V)})$."
   ]
  },
  {
   "cell_type": "code",
   "execution_count": null,
   "metadata": {},
   "outputs": [],
   "source": []
  }
 ],
 "metadata": {
  "kernelspec": {
   "display_name": "Python 3",
   "language": "python",
   "name": "python3"
  },
  "language_info": {
   "codemirror_mode": {
    "name": "ipython",
    "version": 3
   },
   "file_extension": ".py",
   "mimetype": "text/x-python",
   "name": "python",
   "nbconvert_exporter": "python",
   "pygments_lexer": "ipython3",
   "version": "3.7.0"
  }
 },
 "nbformat": 4,
 "nbformat_minor": 2
}
