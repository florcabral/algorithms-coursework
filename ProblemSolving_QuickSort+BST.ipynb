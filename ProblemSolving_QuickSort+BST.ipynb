{
 "cells": [
  {
   "cell_type": "markdown",
   "metadata": {},
   "source": [
    "## Question 1: Median of Median Selection on Quick Sort.\n",
    "\n",
    " In the class, we analyzed an approach for pivot selection that used median of 5 medians.  Here we explore what happens\n",
    "with median of 3 medians.\n",
    "\n",
    " 1. Divide the input array $a$ of size n into $\\frac{n}{3}$ groups of $3$ elements each.\n",
    " 2. Calculate the median of each group of 3 to create a new array $\\hat{a}$ of these medians.\n",
    " 3. Recursively apply the algorithm to find the median of $\\hat{a}$. Let it be $m$.\n",
    " 4. Use $m$ as the pivot element to partition the original array $a$.\n",
    "\n",
    " __(A)__ How many elements in the array $a$ are guaranteed to be less than the chosen pivot $m$? How many are guaranteed to be greater? Assume all elements in the array $a$ are distinct.\n",
    "\n",
    " __(B)__ If $m$ computed using the median of 3 medians were used to partition the array $a$ for a *quickselect* algorithm that is used to find the median of an array $a$, write down the recurrence for $T(n)$, the time taken to find the median of an array of size $n$ using the quick select algorithm with the median of 3 medians trick.\n",
    "\n",
    " __(C)__ The celebrated \"Akra-Bazzi\" method shows that the recurrence $S(n) = S(\\alpha n) + S( (1-\\alpha)n) + \\Theta(n)$ with base case $S(1) = \\Theta(1)$ has solution $S(n) = \\Theta(n \\log (n) )$. Use this to show that median of 3 medians trick fails to achieve a linear time algorithm for quickselect. (**Note** However, as we saw in the lecture, median of 5 medians works to provide $\\Theta(n)$ deterministic selection algorithm or $\\Theta(n \\log(n))$ quicksort that does not depend on randomization in any way).\n",
    "\n",
    "\n",
    "\n",
    "\n",
    "\n",
    "\n"
   ]
  },
  {
   "cell_type": "markdown",
   "metadata": {},
   "source": [
    " ## Answer #1\n",
    "\n",
    "__(A)__ When we use the median of 3 medians trick, we'll be splitting the original array into $\\frac{n}{3}$ parts of 3 elements each, and finding the median of each of these groups. The median of that array of medians becomes m, our pivot.\n",
    "\n",
    "We know that a pivot that yields an imbalanced array leads to a worse runtime complexity. We also know that for each median in our array of medians, there is 1 element smaller and 1 element larger in that 3-element subgroup. We can refer to the median of medians as $\\frac{n}{6}$, or the element found in the middle of a[1]...a[n/3]. \n",
    "\n",
    "From this, we conclude that we are only guaranteed to have, at a minimum, 2 * $\\frac{n}{6}$ = $\\frac{n}{3}$ elements on each side of the pivot (elements larger or smaller than the pivot).\n",
    "\n",
    "\n",
    "__(B)__ Let's briefly look at the time complexity of this algorithm:\n",
    "1. Divide array into $\\frac{n}{3}$ groups --> $\\Theta({n})$\n",
    "2. Compute median of each group --> 3n = $\\Theta({n})$\n",
    "3. Calculate the median on an array of size $\\frac{n}{3}$ --> T($\\frac{n}{3}$)\n",
    "4. Time to partition on quickselect --> Cn\n",
    "5. Find median on the recursive portion --> W.C., T($\\frac{2n}{3}$) on one side\n",
    "\n",
    "The recurrence can be expressed as:\n",
    "\n",
    "T(n) = $\\Theta({n})$ + T($\\frac{n}{3}$) + T($\\frac{2n}{3}$) + Cn\n",
    "\n",
    "= $\\Theta({n})$ + T($\\frac{n}{3}$) + T($\\frac{2n}{3}$)\n",
    "\n",
    "__(C)__ As per the Akra-Bazzi method, an algorithm can run in linear time ($\\Theta({n})$) if [$\\alpha$ + $\\beta$] < 1. \n",
    "\n",
    "As per our recurrence, $\\alpha$ = $\\frac{1}{3}$, and $\\beta$ = $\\frac{2}{3}$. \n",
    "\n",
    "Thus, $\\alpha$ + $\\beta$ = 1, which is not less than 1. We have proven that the algorithm for median of 3 medians trick cannot run in linear time."
   ]
  },
  {
   "cell_type": "markdown",
   "metadata": {},
   "source": [
    "---\n",
    "\n",
    "## Question 2: Detective Work on Pre-Order Traversal of a BST"
   ]
  },
  {
   "cell_type": "markdown",
   "metadata": {},
   "source": [
    "\n",
    " An BST with integer keys in each node is traversed using pre-order traversal and the keys in each node are presented in the order\n",
    "they are visited as an array $a$ of $n$ elements -- $a: [a[1], \\ldots, a[n]]$. Assume that the elements of this array are all distinct.\n",
    "\n",
    " __(A)__ Describe an algorithm to reconstruct the tree in pseudocode. What is the complexity of your algorithm? \n",
    " \n",
    " **Hint:** First identify the root of the tree. Next, how do we identify which elements of the array belong to the left subtree of the root, and which elements to the right subtree? Once that is done, can you recursively perform the reconstruction.\n",
    "\n",
    " Note that you will learn how to build trees properly in your CSCI 2270 class. Here, assume a pseudocode function called `build_tree(n, T1, T2)` that build a tree with root node n and subtrees T1, T2 and returns it.\n",
    "\n",
    "\n",
    " __(B)__ Describe an algorithm that converts the array obtained using the pre-order traversal of a BST into an array representing the post-order traversal without reconstructing the tree. **Hint:** Use the previous part but now instead of reconstructing the tree, think of how pre and post order traversals differ.\n",
    "\n",
    "\n",
    "\n",
    "\n",
    " \n",
    "\n"
   ]
  },
  {
   "cell_type": "markdown",
   "metadata": {},
   "source": [
    "## Answer #2(A)"
   ]
  },
  {
   "cell_type": "markdown",
   "metadata": {},
   "source": [
    "Note: Array a was created through preorder traversal of a tree, storing nodes' key values in the order: root, left, right.\n",
    "Thus, the preorder_array_to_tree algorithm assigns the first element in the array to be the tree's root. "
   ]
  },
  {
   "cell_type": "markdown",
   "metadata": {},
   "source": [
    "__Pseudocode__\n",
    "\n",
    "##### preorder_array_to_tree(a):\n",
    "\n",
    "    # base case, array has 0 or 1 elements\n",
    "    \n",
    "    if len(a) <= 1\n",
    "        return a\n",
    "    \n",
    "    # assign first element of the array to variable root\n",
    "    \n",
    "    root = a[1]\n",
    "    \n",
    "    # define variables i (index), T1 (left subtree array) and T2 (right subtree array)\n",
    "    \n",
    "    i = 0\n",
    "    T1 = []\n",
    "    T2 = []\n",
    "    \n",
    "    # traverse array and compare every element to root\n",
    "    # store every element with key value smaller than root in array T1, every element larger than root in T2\n",
    "    # this creates 2 subtrees based on the array key values\n",
    "    # because we stored the values in order into T1 and T2, we know the first element of each array is still the root of a subtree\n",
    "    \n",
    "    while i < len(a):\n",
    "        if a[i] < root:\n",
    "            T1.append(a[i])\n",
    "        if a[i] > root: \n",
    "            T2.append(a[i])\n",
    "    \n",
    "    # call the preorder_array_to_tree function recursively on the subtrees\n",
    "    \n",
    "    left_tree = preorder_array_to_tree(T1)\n",
    "    right_tree = preorder_array_to_tree(T2)\n",
    "    \n",
    "    # call the build tree function, which builds a BST tree using root node n, and the left_tree and right_tree subtrees\n",
    "    \n",
    "    return build_tree(n, left_tree, right_tree)"
   ]
  },
  {
   "cell_type": "markdown",
   "metadata": {},
   "source": [
    "The __complexity__ of this algorithm is $\\Theta({n log n})$, as it traverses the size of the tree, and divides it into 2 at each recursion. Compsrisons, creating and appending to arrays can be done in costant time."
   ]
  },
  {
   "cell_type": "markdown",
   "metadata": {},
   "source": [
    "## Answer #2(B)"
   ]
  },
  {
   "cell_type": "markdown",
   "metadata": {},
   "source": [
    "__Brief description of algorithm__\n",
    "\n",
    "An array a was created through preorder traversal of a tree, storing nodes' key values in the order: root, left, right. Thus, we know the first element in the array is the tree's root.\n",
    "\n",
    "In order to get the post-order array representation of this tree, we store the first element as the tree root, define the left and right subtrees, and then recursively reorder the elements using the tree root and the post-order traversal logic."
   ]
  },
  {
   "cell_type": "markdown",
   "metadata": {},
   "source": [
    "##### pre_to_post_order(a):\n",
    "\n",
    "0. Base case: if array has 0 or 1 elements, return the array.\n",
    "1. Store the first element as the tree root\n",
    "2. Assign elements smaller than the root to a \"left subtree\" array, and elements larger than root to a \"right subtree\" array\n",
    "3. Call the function recursively on the subtrees\n",
    "4. Append the elements of the \"left subtree\" array, followed by the \"right subtree\" array, and finally the root into a new array \"post_order_array\". This gives us the post-order arrangement: left, right, root\n",
    "5. Return \"post_order_array\"\n",
    "    \n",
    "The complexity of this algorithm is $\\Theta({n log n})$, as it traverses the size of the tree, and divides it into 2 at each recursion. Creating and appending to arrays can be done in costant time."
   ]
  },
  {
   "cell_type": "code",
   "execution_count": null,
   "metadata": {},
   "outputs": [],
   "source": []
  }
 ],
 "metadata": {
  "kernelspec": {
   "display_name": "Python 3",
   "language": "python",
   "name": "python3"
  },
  "language_info": {
   "codemirror_mode": {
    "name": "ipython",
    "version": 3
   },
   "file_extension": ".py",
   "mimetype": "text/x-python",
   "name": "python",
   "nbconvert_exporter": "python",
   "pygments_lexer": "ipython3",
   "version": "3.7.0"
  }
 },
 "nbformat": 4,
 "nbformat_minor": 2
}
